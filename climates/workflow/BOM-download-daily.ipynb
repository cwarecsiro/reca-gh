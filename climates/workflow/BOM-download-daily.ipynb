{
 "cells": [
  {
   "cell_type": "markdown",
   "metadata": {},
   "source": [
    "### BOM daily\n",
    "***\n",
    "#### Download and calculate extreme statistics using the BOM daily climate data"
   ]
  },
  {
   "cell_type": "markdown",
   "metadata": {},
   "source": [
    "The data are located in three sources:  \n",
    "    * http://rs-data1-mel.csiro.au/thredds/catalog/bawap/catalog.html as netCDF  \n",
    "    * \\\\osm-06-cdc.it.csiro.au\\OSM_CBR_LW_Bawapsilo_home\\bawap | /OSM/CBR/LW_Bawapsilo/home/bawap as both netCDF and flt\n",
    "    * \\\\wron\\TimeSeries\\Climate\\bawap\n",
    "    \n",
    "I can't access the wron, and the linux mount of bawap doesn't seem to mirror the windows dir. Probably easier to work with netCDF, so I'll download it from the thredds server. "
   ]
  },
  {
   "cell_type": "code",
   "execution_count": 39,
   "metadata": {
    "collapsed": true
   },
   "outputs": [],
   "source": [
    "%run startup.py"
   ]
  },
  {
   "cell_type": "code",
   "execution_count": 898,
   "metadata": {
    "collapsed": true
   },
   "outputs": [],
   "source": [
    "from maclab.maclab import spatial as sp\n",
    "from maclab.maclab import utils as ut\n",
    "from maclab.maclab import slurm as sl\n",
    "import thredds_crawler\n",
    "from thredds_crawler.crawl import Crawl\n",
    "import importlib\n",
    "importlib.reload(sp)\n",
    "importlib.reload(sl)\n",
    "import pandas as pd"
   ]
  },
  {
   "cell_type": "code",
   "execution_count": 3,
   "metadata": {
    "collapsed": true
   },
   "outputs": [],
   "source": [
    "# working locationsa\n",
    "RECA = '/OSM/CBR/LW_BACKCAST/work'\n",
    "src = '%s/SOURCE/clim' %RECA\n",
    "#os.mkdir(src)"
   ]
  },
  {
   "cell_type": "markdown",
   "metadata": {},
   "source": [
    "** Download netCDF files from thredds **"
   ]
  },
  {
   "cell_type": "code",
   "execution_count": 638,
   "metadata": {},
   "outputs": [
    {
     "name": "stdout",
     "output_type": "stream",
     "text": [
      "Destination directory: /OSM/CBR/LW_BACKCAST/work/SOURCE/clim/awap_daily/rad\n"
     ]
    }
   ],
   "source": [
    "# available daily climate fields\n",
    "fields = ['rain', 'tmax', 'tmin']\n",
    "\n",
    "\"\"\"\n",
    "Note\n",
    "----\n",
    "'rad' is also available, but the time series only extends back to 1990 so is not downloaded\n",
    "\"\"\"\n",
    "\n",
    "for var in fields:\n",
    "    \n",
    "    # config\n",
    "    var_dir = '{0}/SOURCE/clim/awap_daily/{1}'.format(RECA, var)\n",
    "    if os.path.exists(var_dir) is not True:\n",
    "        os.mkdir(var_dir)\n",
    "    print('Destination directory: %s' %var_dir)\n",
    "    \n",
    "    # generate urls\n",
    "    c = Crawl('http://rs-data1-mel.csiro.au/thredds/catalog/bawap/%s/day/catalog.html' %var, debug = False)\n",
    "    datasets = [i.id for i in c.datasets]\n",
    "    server = 'http://rs-data1-mel.csiro.au/thredds/fileServer/'\n",
    "    urls = [server + i for i in datasets]\n",
    "    pd.DataFrame(urls).to_csv('{0}/{1}_urls.csv'.format(var_dir, var), index= False)\n",
    "    print('Found {0} urls to download for {1}'.format(len(urls), var))\n",
    "    var_dir = '{0}/nc'.format(var_dir)\n",
    "    if os.path.exists(var_dir) is not True:\n",
    "        os.mkdir(var_dir)\n",
    "    print('Destination directory: %s' %var_dir)a\n",
    "    \n",
    "    # download\n",
    "    for nc in urls:\n",
    "        io.downloadfile(nc, dst=var_dir, auth=False, overwrite=False, verbose=False)\n",
    "        \n",
    "    print('{0} completed'.format(var))"
   ]
  },
  {
   "cell_type": "markdown",
   "metadata": {},
   "source": [
    "** check what's what in the downloaded files and set up for calculating stats ** "
   ]
  },
  {
   "cell_type": "code",
   "execution_count": 932,
   "metadata": {
    "collapsed": true
   },
   "outputs": [],
   "source": [
    "var = 'rain'"
   ]
  },
  {
   "cell_type": "code",
   "execution_count": 933,
   "metadata": {
    "collapsed": true
   },
   "outputs": [],
   "source": [
    "def var_summary(var):    \n",
    "    var_dir = '/OSM/CBR/LW_BACKCAST/work/SOURCE/clim/awap_daily/{0}/nc'.format(var)\n",
    "    nc = ut.listfiles(var_dir, pattern = '.nc')\n",
    "    nc.sort(key = ut.tokenize)\n",
    "    print('Found %s netCDF files in:\\n\\t%s' %(len(nc), var_dir))\n",
    "\n",
    "    years = []\n",
    "    for month in nc:\n",
    "        this_year = os.path.basename(month).split('-')[-1].split('.')[0][:4]\n",
    "        years.append(this_year)\n",
    "    years = list(set(years))\n",
    "    years.sort()\n",
    "    print('First and last years downloaded are:\\n\\t%s, %s' %(years[0], years[-1]))\n",
    "\n",
    "    # check time series is continuous from 1913\n",
    "    required = np.arange(1913, 2018, 1)\n",
    "    required = [str(i) for i in required]\n",
    "    check = [ut.grep(required, i) for i in set(years)]\n",
    "    check = sum(check, [])\n",
    "    if len(check) == len(required):\n",
    "        print('All years from 1913 are available')\n",
    "\n",
    "    # init dict from the year 1913 onwards - junk earlier years\n",
    "    years = years[ut.which(years, '==', '1913')[0]:]\n",
    "    if years[-1] > '2017':\n",
    "        years = years[:-1] # junk 2018\n",
    "    by_year = {k: [] for k in years}\n",
    "\n",
    "    for yr in by_year.keys():\n",
    "        for n in nc:\n",
    "            this_year = os.path.basename(n).split('-')[-1].split('.')[0][:4]\n",
    "            if this_year == yr:\n",
    "                by_year[yr].append(n)\n",
    "\n",
    "    if all([len(by_year[i]) for i in by_year.keys()]):\n",
    "        print('Have downloaded files for %s years, each year represented by 12 months' %len(by_year))\n",
    "    #for i in by_year.keys():\n",
    "    #    print('Year %s has %s files' %(i, len(by_year[i])))\n",
    "    \n",
    "    return(by_year)"
   ]
  },
  {
   "cell_type": "code",
   "execution_count": 934,
   "metadata": {},
   "outputs": [
    {
     "name": "stdout",
     "output_type": "stream",
     "text": [
      "Found 1424 netCDF files in:\n",
      "\t/OSM/CBR/LW_BACKCAST/work/SOURCE/clim/awap_daily/rain/nc\n",
      "First and last years downloaded are:\n",
      "\t1900, 2018\n",
      "All years from 1913 are available\n",
      "Have downloaded files for 105 years, each year represented by 12 months\n"
     ]
    }
   ],
   "source": [
    "by_year = var_summary(var)"
   ]
  },
  {
   "cell_type": "markdown",
   "metadata": {},
   "source": [
    "** Set up centred climatology **\n",
    "***\n",
    "Base climatatology: 1946-1975"
   ]
  },
  {
   "cell_type": "code",
   "execution_count": 935,
   "metadata": {
    "collapsed": true
   },
   "outputs": [],
   "source": [
    "def config_base_climatology(by_year, start, stop, var, \n",
    "                            dst = None):\n",
    "    # Get all years between 1946-1975 inclusive\n",
    "    base_years = np.arange(start, stop, 1).tolist()\n",
    "    base_years = [str(i) for i in base_years]\n",
    "    base_years = [by_year[i] for i in base_years]\n",
    "    base_years = sum(base_years, [])\n",
    "    base_years[0], base_years[-1]\n",
    "    \n",
    "    # dump to file to then run as slurm job\n",
    "    if dst is None:\n",
    "        dst = '/OSM/CBR/LW_BACKCAST/work/DEV/awap_indicies/base-period-1960' + \\\n",
    "               '/{0}_nc_files.txt'.format(var)\n",
    "        \n",
    "    with open(dst, 'w') as f:\n",
    "        for i in base_years:\n",
    "            f.write(i + '\\n')\n",
    "    f.close()\n",
    "    \n",
    "    print('txt file written here:\\n\\t{0}'.format(dst))"
   ]
  },
  {
   "cell_type": "code",
   "execution_count": 936,
   "metadata": {},
   "outputs": [
    {
     "name": "stdout",
     "output_type": "stream",
     "text": [
      "txt file written here:\n",
      "\t/OSM/CBR/LW_BACKCAST/work/DEV/awap_indicies/base-period-1960/rain_nc_files.txt\n"
     ]
    }
   ],
   "source": [
    "config_base_climatology(1946, 1976, var)"
   ]
  },
  {
   "cell_type": "code",
   "execution_count": 937,
   "metadata": {
    "collapsed": true
   },
   "outputs": [],
   "source": [
    "def readfile(src):\n",
    "    with open(src) as f:\n",
    "        src = f.readlines()\n",
    "    f.close()\n",
    "    src = [x.strip() for x in src] \n",
    "    return(src)"
   ]
  },
  {
   "cell_type": "code",
   "execution_count": 938,
   "metadata": {},
   "outputs": [
    {
     "data": {
      "text/plain": [
       "['/OSM/CBR/LW_BACKCAST/work/SOURCE/clim/awap_daily/tmax/nc/bom-tmax_day-19460101-19460131.nc',\n",
       " '/OSM/CBR/LW_BACKCAST/work/SOURCE/clim/awap_daily/tmax/nc/bom-tmax_day-19460201-19460228.nc',\n",
       " '/OSM/CBR/LW_BACKCAST/work/SOURCE/clim/awap_daily/tmax/nc/bom-tmax_day-19460301-19460331.nc']"
      ]
     },
     "execution_count": 938,
     "metadata": {},
     "output_type": "execute_result"
    }
   ],
   "source": [
    "readfile('/OSM/CBR/LW_BACKCAST/work/DEV/awap_indicies/base-period-1960/tmax_nc_files.txt')[0:3]"
   ]
  },
  {
   "cell_type": "markdown",
   "metadata": {
    "collapsed": true
   },
   "source": [
    "***  \n",
    "### Indicies\n",
    "\n",
    "***tmax***  \n",
    "* TXx: maximum of daily maximum temperature\n",
    "* SU: number of summer days\n",
    "* CSU: maximum number of consecutive summer days\n",
    "* TX90p: number of warm days-times (> 90th percentile)\n",
    "  \n",
    "  \n",
    "***tmin***\n",
    "* TR: number of tropical nights\n",
    "* TG10p: number of cold days (< 10th percentile)\n",
    "   \n",
    "   \n",
    "***tmax+tmin***\n",
    "* ETR: intra-period extreme temperature range\n",
    "  \n",
    "  \n",
    "***tmean***\n",
    "* GD4: growing degree days (> 4)\n",
    "* TG90p: number of warm days (> 90th percentile)\n",
    "  \n",
    "  \n",
    "***precipitation***\n",
    "* CDD: maximum number of consecutive dry days\n",
    "* RR1: number of wet days\n",
    "* CWD: maximum number of consecutive wet days\n",
    "* SDII: mean precipitation amount of wet days\n",
    "* R10mm/R20mm: number of heavy precipitation days\n",
    "* R95p: number of very wet days (> 95th percentile)"
   ]
  },
  {
   "cell_type": "code",
   "execution_count": 958,
   "metadata": {},
   "outputs": [
    {
     "name": "stdout",
     "output_type": "stream",
     "text": [
      "Overwriting /OSM/CBR/LW_BACKCAST/work/code/reca/calc_indicies.py\n"
     ]
    }
   ],
   "source": [
    "%%writefile /OSM/CBR/LW_BACKCAST/work/code/reca/calc_indicies.py\n",
    "import argparse, sys, json, inspect, os, re\n",
    "sys.path.append('/home/war42q')\n",
    "from maclab.maclab import spatial as sp\n",
    "from maclab.maclab import utils as ut\n",
    "import rasterio\n",
    "import pandas as pd\n",
    "import icclim\n",
    "from icclim import calc_indice\n",
    "import numpy as np\n",
    "\n",
    "# args\n",
    "parser = argparse.ArgumentParser(description='Derive climate indices using icclim package',\n",
    "                                add_help=True,\n",
    "                                epilog=\"Note: indicies available from the icclim lib called are: \\n\" + \\\n",
    "                                \"TG TX TN TXx TNx TXn TNn DTR ETR vDTR SU CSU TR FD CFD ID \" + \\\n",
    "                                \"HD17 GD4 PRCPTOT RR1 SDII R10mm R20mm RX1day RX5day CDD CWD \" +\\\n",
    "                                \"SD SD1 SD5cm SD50cm TG10p TX10p TN10p TG90p TX90p TN90p WSDI \" + \\\n",
    "                               \"CSDI R75p R75pTOT R95p R95pTOT R99p R99pTOT\")\n",
    "parser.add_argument('-f','--file-list', \\\n",
    "                    help='path to txt file with list of nc files. <Required> Set flag',\\\n",
    "                    required=True)\n",
    "parser.add_argument('-i','--indicie-list', nargs='+', \\\n",
    "                    help='list of indicies to calculate. To view, call ' +\\\n",
    "                    '$calc_indicies.py --options'\n",
    "                    '<Required> Set flag', \\\n",
    "                    required=True)\n",
    "parser.add_argument('-d','--dst', \\\n",
    "                    help='destination directory to write to.' + \\\n",
    "                    'Will be created if it does not exist <Required> Set flag',\\\n",
    "                    required=True)\n",
    "parser.add_argument('-a', '--args-dict', \\\n",
    "                    help='additional args to supply to any indicie functions called. ' + \\\n",
    "                    'These need to be passed as a dictionary. ' +\n",
    "                    '<Optional> Set flag', type=json.loads)\n",
    "parser.add_argument('-k', '--cel2kel', \\\n",
    "                    help='Convert input array from celsius to kelvin. ' + \\\n",
    "                    '<Optional> Set flag', action=\"store_true\")\n",
    "parser.add_argument('-fn', '--filename', \\\n",
    "                    help='String to add to add to the filename. By default, the filename ' + \\\n",
    "                    'is given as <indicie>.tif. <Optional> Set flag')\n",
    "parser.add_argument(\"-v\", \"--verbose\", action=\"store_true\",\n",
    "                    help=\"print messages to console\")\n",
    "args = parser.parse_args()\n",
    "\n",
    "\n",
    "def config(args):\n",
    "    \"\"\"Config args.\"\"\"\n",
    "    # txt file listing nc files\n",
    "    files = vars(args)['file_list']\n",
    "    with open(files) as f:\n",
    "        src = f.readlines()\n",
    "    f.close()\n",
    "    src = [x.strip() for x in src] \n",
    "\n",
    "    # indicies as list\n",
    "    indicies = vars(args)['indicie_list']\n",
    "    \n",
    "    # dst dir\n",
    "    dst = vars(args)['dst']\n",
    "    if os.path.exists(dst) is not True:\n",
    "        os.mkdir(dst)\n",
    "\n",
    "    # check additional args\n",
    "    kwargs = vars(args)['args_dict']\n",
    "    \n",
    "    return(src, indicies, dst, kwargs)\n",
    "    \n",
    "def checks(indicies):\n",
    "    \"\"\"Run checks.\"\"\"\n",
    "    # indicies available in calc_indicies \n",
    "    indicie_opts = [\"TG\", \"TX\", \"TN\", \"TXx\", \"TNx\",\n",
    "                    \"TXn\", \"TNn\", \"DTR\", \"ETR\", \"vDTR\",\n",
    "                    \"SU\", \"CSU\", \"TR\", \"FD\", \"CFD\",  \n",
    "                    \"ID\", \"HD17\", \"GD4\", \"PRCPTOT\", \"RR1\", \n",
    "                    \"SDII\",\"R10mm\", \"R20mm\", \"RX1day\", \"RX5day\", \n",
    "                    \"CDD\", \"CWD\", \"SD\", \"SD1\", \"SD5cm\", \n",
    "                    \"SD50cm\", \"TG10p\", \"TX10p\", \"TN10p\", \"TG90p\", \n",
    "                    \"TX90p\", \"TN90p\",\"WSDI\", \"CSDI\", \"R75p\", \n",
    "                    \"R75pTOT\", \"R95p\", \"R95pTOT\", \"R99p\", \"R99pTOT\"]\n",
    "\n",
    "    for i in indicies:\n",
    "        if i not in indicie_opts:\n",
    "            print('{0} is not a valid indicie. Provided indicie must match one of {1}'.\\\n",
    "                  format(i, indicie_opts))\n",
    "            sys.exit()\n",
    "\n",
    "def gen_meta(src):\n",
    "    # meta template\n",
    "    meta = sp.Raster(src[0]).meta\n",
    "    meta['count'] = 1\n",
    "    meta['dtype'] = 'float32'\n",
    "    meta['driver'] = 'GTiff'\n",
    "    meta['nodata'] = -9999\n",
    "\n",
    "    rm_keys = ['blockxsize', 'blockysize', 'tiled']\n",
    "    for k in rm_keys:\n",
    "        if k in meta:\n",
    "            del meta[k]\n",
    "    return(meta)\n",
    "            \n",
    "def run(args):\n",
    "    src, indicies, dst, kwargs = config(args)\n",
    "    checks(indicies)\n",
    "    if args.verbose:\n",
    "        print('Reading in {0} files'.format(len(src)))\n",
    "    meta = gen_meta(src)\n",
    "    \n",
    "    # read data into 3D arary\n",
    "    base_period = sp.stack(src, checks = False).array\n",
    "    base_period = np.rollaxis(base_period, axis=-1)\n",
    "    print('Input array has shape {0}'.format(str(base_period.shape)))\n",
    "    \n",
    "    if args.cel2kel:\n",
    "        base_period+=273.15\n",
    "        if args.verbose:\n",
    "            print('Converted array to Kelvin')\n",
    "    \n",
    "    if kwargs is None and args.verbose:\n",
    "        print('kwargs is none')\n",
    "    \n",
    "    for i in indicies:\n",
    "        # get matched function\n",
    "        parse_func = getattr(calc_indice, '{0}_calculation'.format(i))\n",
    "        # ensure a fill value is given\n",
    "        if kwargs:\n",
    "            if 'fill_val' not in kwargs.keys() and hasattr(y, 'fill_val') is not True:\n",
    "                fill_val = -9999\n",
    "            else:\n",
    "                fill_val = kwargs['fill_val']\n",
    "                del kwargs['fill_val']\n",
    "        else:\n",
    "            fill_val = -9999\n",
    "        # run\n",
    "        if kwargs:\n",
    "            output_i = parse_func(arr = base_period, fill_val = fill_val, **kwargs)\n",
    "        else:\n",
    "            output_i = parse_func(arr = base_period, fill_val = fill_val)\n",
    "        # write\n",
    "        if args.filename:\n",
    "            this_dst = '{0}/{1}_{2}.tif'.format(dst, i, args.filename)\n",
    "        else:\n",
    "            this_dst = '{0}/{1}.tif'.format(dst, i)\n",
    "        with rasterio.open(this_dst, 'w', **meta) as output:\n",
    "            output.write(output_i.astype('float32'), 1)\n",
    "        if args.verbose:\n",
    "            print('indicie {0} written to {1}'.format(i, this_dst))\n",
    "\n",
    "if __name__ == '__main__':\n",
    "    run(args)"
   ]
  },
  {
   "cell_type": "code",
   "execution_count": 959,
   "metadata": {
    "collapsed": true
   },
   "outputs": [],
   "source": [
    "!chmod +x /OSM/CBR/LW_BACKCAST/work/code/reca/calc_indicies.py"
   ]
  },
  {
   "cell_type": "code",
   "execution_count": 633,
   "metadata": {},
   "outputs": [
    {
     "name": "stdout",
     "output_type": "stream",
     "text": [
      "usage: calc_indicies.py [-h] -f FILE_LIST -i INDICIE_LIST [INDICIE_LIST ...]\n",
      "                        -d DST [-a ARGS_DICT] [-v]\n",
      "\n",
      "Derive climate indices using icclim package\n",
      "\n",
      "optional arguments:\n",
      "  -h, --help            show this help message and exit\n",
      "  -f FILE_LIST, --file-list FILE_LIST\n",
      "                        path to txt file with list of nc files. <Required> Set\n",
      "                        flag\n",
      "  -i INDICIE_LIST [INDICIE_LIST ...], --indicie-list INDICIE_LIST [INDICIE_LIST ...]\n",
      "                        list of indicies to calculate. To view, call\n",
      "                        $calc_indicies.py --options<Required> Set flag\n",
      "  -d DST, --dst DST     destination directory to write to.Will be created if\n",
      "                        it does not exist <Required> Set flag\n",
      "  -a ARGS_DICT, --args-dict ARGS_DICT\n",
      "                        additional args to supply to any indicie functions\n",
      "                        called. These need to be passed as a dictionary.\n",
      "                        <Optional> Set flag\n",
      "  -v, --verbose         print messages to console\n",
      "\n",
      "Note: indicies available from the icclim lib called are: TG TX TN TXx TNx TXn\n",
      "TNn DTR ETR vDTR SU CSU TR FD CFD ID HD17 GD4 PRCPTOT RR1 SDII R10mm R20mm\n",
      "RX1day RX5day CDD CWD SD SD1 SD5cm SD50cm TG10p TX10p TN10p TG90p TX90p TN90p\n",
      "WSDI CSDI R75p R75pTOT R95p R95pTOT R99p R99pTOT\n"
     ]
    }
   ],
   "source": [
    "%run /OSM/CBR/LW_BACKCAST/work/code/reca/calc_indicies.py --help"
   ]
  },
  {
   "cell_type": "code",
   "execution_count": 899,
   "metadata": {
    "collapsed": true
   },
   "outputs": [],
   "source": [
    "shfile = sl.config('/OSM/CBR/LW_BACKCAST/work/code/reca/calc_indicies.py', \n",
    "                   mem=196, time='00:59:00', ntasks=1, nodes=1, env='python/3.6.1', \n",
    "                   jobname='SU_1960', stdout='SU_1960.txt', \n",
    "                   cli_args = [{'-f': '/OSM/CBR/LW_BACKCAST/work/DEV/awap_indicies/base-period-1960/rain_nc_files.txt',\n",
    "                              '-i': 'CDD RR1', '-d': '/OSM/CBR/LW_BACKCAST/work/SOURCE/clim/awap_indicies/base-period-1960',\n",
    "                               '-fn': '1960C'}])"
   ]
  },
  {
   "cell_type": "code",
   "execution_count": 901,
   "metadata": {
    "collapsed": true
   },
   "outputs": [],
   "source": [
    "job = sl.sbatch(shfile)"
   ]
  },
  {
   "cell_type": "code",
   "execution_count": 902,
   "metadata": {},
   "outputs": [
    {
     "name": "stdout",
     "output_type": "stream",
     "text": [
      "             JOBID PARTITION     NAME     USER ST       TIME  NODES NODELIST(REASON)\n",
      "            857520    m512gb  SU_1960   war42q  R       0:02      1 c151\n",
      "\n"
     ]
    }
   ],
   "source": [
    "sl.squeue()"
   ]
  },
  {
   "cell_type": "code",
   "execution_count": 904,
   "metadata": {},
   "outputs": [
    {
     "name": "stdout",
     "output_type": "stream",
     "text": [
      "Launching job\n",
      "\n",
      "/apps/python/3.6.1/lib/python3.6/importlib/_bootstrap.py:205: RuntimeWarning: numpy.dtype size changed, may indicate binary incompatibility. Expected 96, got 88\n",
      "\n",
      "  return f(*args, **kwds)\n",
      "\n",
      "Input array has shape (10957, 681, 841)\n",
      "\n",
      "Done!\n",
      "\n"
     ]
    }
   ],
   "source": [
    "job.log"
   ]
  },
  {
   "cell_type": "code",
   "execution_count": 960,
   "metadata": {},
   "outputs": [
    {
     "ename": "OSError",
     "evalue": "[Errno 12] Cannot allocate memory",
     "output_type": "error",
     "traceback": [
      "\u001b[0;31m---------------------------------------------------------------------------\u001b[0m",
      "\u001b[0;31mOSError\u001b[0m                                   Traceback (most recent call last)",
      "\u001b[0;32m<ipython-input-960-8971ce32d150>\u001b[0m in \u001b[0;36m<module>\u001b[0;34m()\u001b[0m\n\u001b[0;32m----> 1\u001b[0;31m \u001b[0mprint\u001b[0m\u001b[0;34m(\u001b[0m\u001b[0mjob\u001b[0m\u001b[0;34m.\u001b[0m\u001b[0mstats\u001b[0m\u001b[0;34m)\u001b[0m\u001b[0;34m\u001b[0m\u001b[0m\n\u001b[0m",
      "\u001b[0;32m~/maclab/maclab/slurm.py\u001b[0m in \u001b[0;36mstats\u001b[0;34m(self)\u001b[0m\n\u001b[1;32m     52\u001b[0m         return(subprocess.run(\n\u001b[1;32m     53\u001b[0m                 \u001b[0;34m[\u001b[0m\u001b[0;34m'sacct'\u001b[0m\u001b[0;34m,\u001b[0m \u001b[0mJOBID\u001b[0m\u001b[0;34m,\u001b[0m \u001b[0;34m'--format=User,JobID,account,Timelimit,elapsed,ReqMem,MaxRss,ExitCode'\u001b[0m\u001b[0;34m]\u001b[0m\u001b[0;34m,\u001b[0m\u001b[0;34m\u001b[0m\u001b[0m\n\u001b[0;32m---> 54\u001b[0;31m                 stdout=subprocess.PIPE).stdout.decode('utf-8'))\n\u001b[0m\u001b[1;32m     55\u001b[0m \u001b[0;34m\u001b[0m\u001b[0m\n\u001b[1;32m     56\u001b[0m \u001b[0;34m\u001b[0m\u001b[0m\n",
      "\u001b[0;32m/apps/python/3.6.1/lib/python3.6/subprocess.py\u001b[0m in \u001b[0;36mrun\u001b[0;34m(input, timeout, check, *popenargs, **kwargs)\u001b[0m\n\u001b[1;32m    401\u001b[0m         \u001b[0mkwargs\u001b[0m\u001b[0;34m[\u001b[0m\u001b[0;34m'stdin'\u001b[0m\u001b[0;34m]\u001b[0m \u001b[0;34m=\u001b[0m \u001b[0mPIPE\u001b[0m\u001b[0;34m\u001b[0m\u001b[0m\n\u001b[1;32m    402\u001b[0m \u001b[0;34m\u001b[0m\u001b[0m\n\u001b[0;32m--> 403\u001b[0;31m     \u001b[0;32mwith\u001b[0m \u001b[0mPopen\u001b[0m\u001b[0;34m(\u001b[0m\u001b[0;34m*\u001b[0m\u001b[0mpopenargs\u001b[0m\u001b[0;34m,\u001b[0m \u001b[0;34m**\u001b[0m\u001b[0mkwargs\u001b[0m\u001b[0;34m)\u001b[0m \u001b[0;32mas\u001b[0m \u001b[0mprocess\u001b[0m\u001b[0;34m:\u001b[0m\u001b[0;34m\u001b[0m\u001b[0m\n\u001b[0m\u001b[1;32m    404\u001b[0m         \u001b[0;32mtry\u001b[0m\u001b[0;34m:\u001b[0m\u001b[0;34m\u001b[0m\u001b[0m\n\u001b[1;32m    405\u001b[0m             \u001b[0mstdout\u001b[0m\u001b[0;34m,\u001b[0m \u001b[0mstderr\u001b[0m \u001b[0;34m=\u001b[0m \u001b[0mprocess\u001b[0m\u001b[0;34m.\u001b[0m\u001b[0mcommunicate\u001b[0m\u001b[0;34m(\u001b[0m\u001b[0minput\u001b[0m\u001b[0;34m,\u001b[0m \u001b[0mtimeout\u001b[0m\u001b[0;34m=\u001b[0m\u001b[0mtimeout\u001b[0m\u001b[0;34m)\u001b[0m\u001b[0;34m\u001b[0m\u001b[0m\n",
      "\u001b[0;32m/apps/python/3.6.1/lib/python3.6/subprocess.py\u001b[0m in \u001b[0;36m__init__\u001b[0;34m(self, args, bufsize, executable, stdin, stdout, stderr, preexec_fn, close_fds, shell, cwd, env, universal_newlines, startupinfo, creationflags, restore_signals, start_new_session, pass_fds, encoding, errors)\u001b[0m\n\u001b[1;32m    705\u001b[0m                                 \u001b[0mc2pread\u001b[0m\u001b[0;34m,\u001b[0m \u001b[0mc2pwrite\u001b[0m\u001b[0;34m,\u001b[0m\u001b[0;34m\u001b[0m\u001b[0m\n\u001b[1;32m    706\u001b[0m                                 \u001b[0merrread\u001b[0m\u001b[0;34m,\u001b[0m \u001b[0merrwrite\u001b[0m\u001b[0;34m,\u001b[0m\u001b[0;34m\u001b[0m\u001b[0m\n\u001b[0;32m--> 707\u001b[0;31m                                 restore_signals, start_new_session)\n\u001b[0m\u001b[1;32m    708\u001b[0m         \u001b[0;32mexcept\u001b[0m\u001b[0;34m:\u001b[0m\u001b[0;34m\u001b[0m\u001b[0m\n\u001b[1;32m    709\u001b[0m             \u001b[0;31m# Cleanup if the child failed starting.\u001b[0m\u001b[0;34m\u001b[0m\u001b[0;34m\u001b[0m\u001b[0m\n",
      "\u001b[0;32m/apps/python/3.6.1/lib/python3.6/subprocess.py\u001b[0m in \u001b[0;36m_execute_child\u001b[0;34m(self, args, executable, preexec_fn, close_fds, pass_fds, cwd, env, startupinfo, creationflags, shell, p2cread, p2cwrite, c2pread, c2pwrite, errread, errwrite, restore_signals, start_new_session)\u001b[0m\n\u001b[1;32m   1258\u001b[0m                             \u001b[0merrread\u001b[0m\u001b[0;34m,\u001b[0m \u001b[0merrwrite\u001b[0m\u001b[0;34m,\u001b[0m\u001b[0;34m\u001b[0m\u001b[0m\n\u001b[1;32m   1259\u001b[0m                             \u001b[0merrpipe_read\u001b[0m\u001b[0;34m,\u001b[0m \u001b[0merrpipe_write\u001b[0m\u001b[0;34m,\u001b[0m\u001b[0;34m\u001b[0m\u001b[0m\n\u001b[0;32m-> 1260\u001b[0;31m                             restore_signals, start_new_session, preexec_fn)\n\u001b[0m\u001b[1;32m   1261\u001b[0m                     \u001b[0mself\u001b[0m\u001b[0;34m.\u001b[0m\u001b[0m_child_created\u001b[0m \u001b[0;34m=\u001b[0m \u001b[0;32mTrue\u001b[0m\u001b[0;34m\u001b[0m\u001b[0m\n\u001b[1;32m   1262\u001b[0m                 \u001b[0;32mfinally\u001b[0m\u001b[0;34m:\u001b[0m\u001b[0;34m\u001b[0m\u001b[0m\n",
      "\u001b[0;31mOSError\u001b[0m: [Errno 12] Cannot allocate memory"
     ]
    }
   ],
   "source": [
    "print(job.stats)"
   ]
  },
  {
   "cell_type": "code",
   "execution_count": 897,
   "metadata": {},
   "outputs": [
    {
     "name": "stdout",
     "output_type": "stream",
     "text": [
      "Overwriting /home/war42q/maclab/maclab/slurm.py\n"
     ]
    }
   ],
   "source": [
    "%%writefile /home/war42q/maclab/maclab/slurm.py\n",
    "import subprocess, getpass\n",
    "from subprocess import call\n",
    "import datetime\n",
    "import sys, os, re\n",
    "\n",
    "class Jid:\n",
    "    \n",
    "    \"\"\"  Class for slurm job ids as returned from an sbatch call \"\"\"\n",
    "    def __init__(self, jid, stdout):\n",
    "        self.jid = jid\n",
    "        #self.jid = int(str.split(jid.replace('\\n', ''), ' ')[3])\n",
    "        self.type = 'sbatch job ID'\n",
    "        self.stdout = stdout\n",
    "    \n",
    "    @property\n",
    "    def scancel(self):\n",
    "        \"\"\" simple wrapper around slurm cancel all jobs for user function \"\"\"\n",
    "        subprocess.run([\"scancel\", jobid])\n",
    "    \n",
    "    @property\n",
    "    def logger(self):\n",
    "        jid = str(self.jid)\n",
    "        scontrol = subprocess.run(['scontrol', 'show', 'job', jid],stdout=subprocess.PIPE).stdout.decode('utf-8')\n",
    "        if len(scontrol):\n",
    "            scontrol = scontrol.split('\\n')\n",
    "            stdout = []\n",
    "            for i in scontrol:\n",
    "                if(re.search('StdOut', i)):\n",
    "                    stdout.append(i)\n",
    "            tofilepath = re.sub(r'|'.join((r'StdOut=', r' ')), '', stdout[0])\n",
    "            f = open(tofilepath, 'r')\n",
    "            for line in f:\n",
    "                print(line)\n",
    "        else:\n",
    "            try_default = os.getcwd() + '/slurm-' + jid + '.out'\n",
    "            try:\n",
    "                f = open(try_default, 'r')\n",
    "                for line in f:\n",
    "                    print(line)\n",
    "            except:\n",
    "                print('Job has finished and probably has a custom location for the log file which is on the TODO list...')\n",
    "                \n",
    "    @property\n",
    "    def log(self):\n",
    "        f = open(self.stdout, 'r')\n",
    "        for line in f:\n",
    "            print(line)\n",
    "        \n",
    "    @property\n",
    "    def stats (self):\n",
    "        JOBID = '--jobs=' + str(self.jid)\n",
    "        return(subprocess.run(\n",
    "                ['sacct', JOBID, '--format=User,JobID,account,Timelimit,elapsed,ReqMem,MaxRss,ExitCode'], \n",
    "                stdout=subprocess.PIPE).stdout.decode('utf-8'))\n",
    "\n",
    "\n",
    "def sbatch(ex_script, jobname = None, sys_arg = None):\n",
    "    \"\"\" \n",
    "    Summary\n",
    "    -------\n",
    "    Python interface to slurm sbatch cmd line function\n",
    "    \n",
    "    Args\n",
    "    ----\n",
    "    ex_script: executable file (e.g. .sh) to pass to sbacth\n",
    "    jobname: string to pass as a job name\n",
    "    sys_arg: dict of named arguments to pass to the program being run \n",
    "    \n",
    "    Returns\n",
    "    -------\n",
    "    JOBID (class Jid)\n",
    "    \"\"\"\n",
    "    call = []\n",
    "    if jobname is not None:\n",
    "        call.append(\"--job-name=\" + jobname)\n",
    "    if sys_arg is not None:\n",
    "        args_list = [i for i in sys_arg.items()]\n",
    "        arg_name = args_list[0][0]\n",
    "        arg_val = args_list[0][1]\n",
    "        call.append(\"--export=\" + str(arg_name) + \"=\" + str(arg_val))\n",
    "    call.append(ex_script)    \n",
    "    if sys_arg is not None:\n",
    "        call.append(str(arg_val))\n",
    "    make_call = subprocess.run([\"sbatch\"] + call, stdout=subprocess.PIPE).stdout.decode('utf-8')\n",
    "    jid = str(str.split(make_call.replace('\\n', ''), ' ')[3])\n",
    "    scontrol = subprocess.run(['scontrol', 'show', 'job', jid],stdout=subprocess.PIPE).stdout.decode('utf-8')\n",
    "    if len(scontrol):\n",
    "            scontrol = scontrol.split('\\n')\n",
    "            stdout = []\n",
    "            for i in scontrol:\n",
    "                if(re.search('StdOut', i)):\n",
    "                    stdout.append(i)\n",
    "            tofilepath = re.sub(r'|'.join((r'StdOut=', r' ')), '', stdout[0])\n",
    "    return(Jid(jid, tofilepath))\n",
    "\n",
    "\n",
    "def squeue (user = None, jid = None):\n",
    "    \"\"\" simple wrapper around slurm queue function \"\"\"\n",
    "    if user is None:\n",
    "        user = getpass.getuser()\n",
    "    else:\n",
    "        user = str(user)\n",
    "    if jid is not None:\n",
    "        jid = str(jid)\n",
    "        queue = subprocess.run(['squeue', '-u', user, '-j', jid], stdout=subprocess.PIPE).stdout.decode('utf-8')\n",
    "        print(queue)\n",
    "    else:\n",
    "        queue = subprocess.run(['squeue', '-u', user], stdout=subprocess.PIPE).stdout.decode('utf-8')\n",
    "        queue = queue.split('\\n')\n",
    "        for line in queue:\n",
    "            print(line)\n",
    "        \n",
    "def scancel (JOBID = None):\n",
    "    \"\"\" cancel all jobs for current user \"\"\"\n",
    "    if JOBID is None:\n",
    "        usr = getpass.getuser()\n",
    "        cancel_ok = input('Warning! This will cancel ALL jobs for ' + \n",
    "                              usr + '. Type y/n to cancel or quit function')\n",
    "        if cancel_ok == 'n':\n",
    "            return\n",
    "        else:\n",
    "            subprocess.run([\"scancel\", \"-u\", usr])\n",
    "    else:\n",
    "        subprocess.run([\"scancel\", JOBID])\n",
    "\n",
    "def config(exfile, mem=48, time='00:59:00', ntasks=1, nodes=1, env='python/3.6.1', jobname=None, stdout = None,\n",
    "           cli_args = None, **args):\n",
    "    if jobname is None:\n",
    "        now = datetime.datetime.now()\n",
    "        now = now.strftime(\"%Y-%m-%d\")\n",
    "        jobname = 'job_' + now\n",
    "        temp_dst = '/home/' + getpass.getuser() + '/tmp_sh/' + jobname + '.sh'\n",
    "    else:\n",
    "        temp_dst = '/home/' + getpass.getuser() + '/tmp_sh/' + jobname + '.sh'\n",
    "    try:\n",
    "        f = open(temp_dst, 'w')\n",
    "    except FileNotFoundError:\n",
    "        os.mkdir('/home/' + getpass.getuser() + '/tmp_sh')\n",
    "        f = open(temp_dst, 'w')\n",
    "    \n",
    "    f.write('#!/bin/bash' + '\\n')\n",
    "    f.write('#SBATCH --job-name=' + jobname + '\\n')\n",
    "    f.write('#SBATCH --nodes=' + str(nodes) + '\\n')\n",
    "    f.write('#SBATCH --ntasks-per-node=' + str(ntasks)+ '\\n')\n",
    "    f.write('#SBATCH --mem=' + str(mem) + 'GB' + '\\n')\n",
    "    f.write('#SBATCH --time=' + time + '\\n')\n",
    "    if stdout is not None:\n",
    "        f.write('#SBATCH --output=%s' %stdout + '\\n')\n",
    "    f.write('\\n')\n",
    "    f.write('echo \"Launching job\"' + '\\n')\n",
    "    f.write('module load ' + env + '\\n')\n",
    "    if cli_args and args:\n",
    "        print('Mixing cli_args and args will probably not work')\n",
    "        sys.exit()\n",
    "    if cli_args:\n",
    "        argv_args = []\n",
    "        for a in cli_args:\n",
    "            if isinstance(a, dict):\n",
    "                for key, val in a.items():\n",
    "                    argv_args.append(' '.join([key, str(val)]))\n",
    "            else:\n",
    "                for flag in a:\n",
    "                    argv_args.append(str(flag))\n",
    "        f.write('python ' + exfile + ' ' + ' '.join(argv_args) +'\\n') \n",
    "    if args:\n",
    "        argv_args = []\n",
    "        for key, val in kwargs.items():\n",
    "            argv_args.append(str(val))\n",
    "        f.write('python ' + exfile + ' ' + ' '.join(argv_args) +'\\n')     \n",
    "    elif not cli_args and args:\n",
    "        f.write('python ' + exfile + '\\n') \n",
    "    f.write('\\n')\n",
    "    f.write('exit_code=$?' + '\\n')\n",
    "    f.write('if [ \"$exit_code\" -ne 0 ]; then ' + '\\n')\n",
    "    f.write('\\t' + 'echo \"----------------------------------------\"' + '\\n')\n",
    "    f.write('\\t' + 'echo \"<< JOB FAIL! >> Exit code was $exit_code\"' + '\\n')\n",
    "    f.write('else' + '\\n')\n",
    "    f.write('\\t' + 'echo \"Done!\"' + '\\n')\n",
    "    f.write('fi')\n",
    "    f.close()\n",
    "    return(temp_dst)"
   ]
  },
  {
   "cell_type": "code",
   "execution_count": null,
   "metadata": {
    "collapsed": true
   },
   "outputs": [],
   "source": []
  },
  {
   "cell_type": "code",
   "execution_count": 582,
   "metadata": {},
   "outputs": [
    {
     "data": {
      "text/plain": [
       "CompletedProcess(args=['scancel', '-u', 'war42q'], returncode=0)"
      ]
     },
     "execution_count": 582,
     "metadata": {},
     "output_type": "execute_result"
    }
   ],
   "source": [
    "subprocess.run([\"scancel\", \"-u\", usr])"
   ]
  },
  {
   "cell_type": "code",
   "execution_count": 382,
   "metadata": {
    "collapsed": true
   },
   "outputs": [],
   "source": [
    "arg = []\n",
    "for key, val in d.items():\n",
    "    arg.append(' '.join([key, str(val)]))"
   ]
  },
  {
   "cell_type": "code",
   "execution_count": 384,
   "metadata": {},
   "outputs": [
    {
     "data": {
      "text/plain": [
       "'-f filepath -j CU'"
      ]
     },
     "execution_count": 384,
     "metadata": {},
     "output_type": "execute_result"
    }
   ],
   "source": [
    "' '.join(arg)"
   ]
  },
  {
   "cell_type": "code",
   "execution_count": null,
   "metadata": {
    "collapsed": true
   },
   "outputs": [],
   "source": []
  },
  {
   "cell_type": "code",
   "execution_count": null,
   "metadata": {
    "collapsed": true
   },
   "outputs": [],
   "source": []
  },
  {
   "cell_type": "code",
   "execution_count": 497,
   "metadata": {
    "collapsed": true
   },
   "outputs": [],
   "source": [
    "shfile = config('/OSM/CBR/LW_BACKCAST/work/code/reca/calc_indicies.py', \n",
    "                   mem=146, time='01:59:00', ntasks=1, nodes=1, env='python/3.6.1', \n",
    "                   jobname='SU_1960', stdout='SU_1960.txt', \n",
    "                   cli_args = {'-f':'/OSM/CBR/LW_BACKCAST/work/SOURCE/clim/awap_indicies/base-period-1960/nc_files.txt', 'r':'rah'})"
   ]
  },
  {
   "cell_type": "code",
   "execution_count": 498,
   "metadata": {},
   "outputs": [
    {
     "name": "stdout",
     "output_type": "stream",
     "text": [
      "#!/bin/bash\r\n",
      "#SBATCH --job-name=SU_1960\r\n",
      "#SBATCH --nodes=1\r\n",
      "#SBATCH --ntasks-per-node=1\r\n",
      "#SBATCH --mem=146GB\r\n",
      "#SBATCH --time=01:59:00\r\n",
      "#SBATCH --output=SU_1960.txt\r\n",
      "\r\n",
      "echo \"Launching job\"\r\n",
      "module load python/3.6.1\r\n",
      "python /OSM/CBR/LW_BACKCAST/work/code/reca/calc_indicies.py -f /OSM/CBR/LW_BACKCAST/work/SOURCE/clim/awap_indicies/base-period-1960/nc_files.txt r rah\r\n",
      "\r\n",
      "exit_code=$?\r\n",
      "if [ \"$exit_code\" -ne 0 ]; then \r\n",
      "\techo \"----------------------------------------\"\r\n",
      "\techo \"<< JOB FAIL! >> Exit code was $exit_code\"\r\n",
      "else\r\n",
      "\techo \"Done!\"\r\n",
      "fi"
     ]
    }
   ],
   "source": [
    "!cat /home/war42q/tmp_sh/SU_1960.sh"
   ]
  },
  {
   "cell_type": "code",
   "execution_count": 475,
   "metadata": {},
   "outputs": [
    {
     "name": "stdout",
     "output_type": "stream",
     "text": [
      "-f /OSM/CBR/LW_BACKCAST/work/SOURCE/clim/awap_indicies/base-period-1960/nc_files.txt\n",
      "-r rah\n"
     ]
    }
   ],
   "source": [
    "d = {'-f':'/OSM/CBR/LW_BACKCAST/work/SOURCE/clim/awap_indicies/base-period-1960/nc_files.txt', '-r':'rah'}\n",
    "for key, value in d.items():\n",
    "    #print(key, value)\n",
    "    print(' '.join([key, str(value)]))"
   ]
  },
  {
   "cell_type": "code",
   "execution_count": 472,
   "metadata": {},
   "outputs": [
    {
     "data": {
      "text/plain": [
       "{'-f': '/OSM/CBR/LW_BACKCAST/work/SOURCE/clim/awap_indicies/base-period-1960/nc_files.txt',\n",
       " 'r': 'rah'}"
      ]
     },
     "execution_count": 472,
     "metadata": {},
     "output_type": "execute_result"
    }
   ],
   "source": [
    "d"
   ]
  },
  {
   "cell_type": "code",
   "execution_count": null,
   "metadata": {
    "collapsed": true
   },
   "outputs": [],
   "source": []
  },
  {
   "cell_type": "code",
   "execution_count": null,
   "metadata": {
    "collapsed": true
   },
   "outputs": [],
   "source": []
  },
  {
   "cell_type": "code",
   "execution_count": 164,
   "metadata": {
    "collapsed": true
   },
   "outputs": [],
   "source": [
    "txx = sp.Raster('/OSM/CBR/LW_BACKCAST/work/SOURCE/clim/awap_indicies/base-period-1960/TXx_1960C.tif')"
   ]
  },
  {
   "cell_type": "code",
   "execution_count": 225,
   "metadata": {
    "collapsed": true
   },
   "outputs": [],
   "source": [
    "txx = None"
   ]
  },
  {
   "cell_type": "code",
   "execution_count": 172,
   "metadata": {
    "collapsed": true
   },
   "outputs": [],
   "source": [
    "dat = txx.read().array.squeeze()"
   ]
  },
  {
   "cell_type": "code",
   "execution_count": 173,
   "metadata": {},
   "outputs": [
    {
     "data": {
      "text/plain": [
       "<matplotlib.image.AxesImage at 0x2aaafca14080>"
      ]
     },
     "execution_count": 173,
     "metadata": {},
     "output_type": "execute_result"
    },
    {
     "data": {
      "image/png": "[encoded data removed]",
      "text/plain": [
       "<matplotlib.figure.Figure at 0x2aaafc71bcf8>"
      ]
     },
     "metadata": {},
     "output_type": "display_data"
    }
   ],
   "source": [
    "plt.imshow(dat)"
   ]
  },
  {
   "cell_type": "code",
   "execution_count": 178,
   "metadata": {
    "collapsed": true
   },
   "outputs": [],
   "source": [
    "x = np.rot90(dat, k = 3)"
   ]
  },
  {
   "cell_type": "code",
   "execution_count": 179,
   "metadata": {},
   "outputs": [
    {
     "data": {
      "text/plain": [
       "<matplotlib.image.AxesImage at 0x2aaafd1f9908>"
      ]
     },
     "execution_count": 179,
     "metadata": {},
     "output_type": "execute_result"
    },
    {
     "data": {
      "image/png": "[encoded data removed]",
      "text/plain": [
       "<matplotlib.figure.Figure at 0x2aaafd100240>"
      ]
     },
     "metadata": {},
     "output_type": "display_data"
    }
   ],
   "source": [
    "plt.imshow(x)"
   ]
  },
  {
   "cell_type": "code",
   "execution_count": 180,
   "metadata": {},
   "outputs": [
    {
     "data": {
      "text/plain": [
       "(841, 681)"
      ]
     },
     "execution_count": 180,
     "metadata": {},
     "output_type": "execute_result"
    }
   ],
   "source": [
    "x.shape"
   ]
  },
  {
   "cell_type": "code",
   "execution_count": 166,
   "metadata": {},
   "outputs": [
    {
     "data": {
      "text/plain": [
       "(1, 681, 841)"
      ]
     },
     "execution_count": 166,
     "metadata": {},
     "output_type": "execute_result"
    }
   ],
   "source": [
    "dat.shape"
   ]
  },
  {
   "cell_type": "code",
   "execution_count": 169,
   "metadata": {},
   "outputs": [
    {
     "data": {
      "text/plain": [
       "{'driver': 'netCDF', 'dtype': 'float64', 'nodata': -999.0, 'width': 841, 'height': 681, 'count': 31, 'crs': CRS({'proj': 'longlat', 'ellps': 'WGS84', 'no_defs': True}), 'transform': Affine(0.05, 0.0, 111.975,\n",
       "       0.0, -0.05, -9.975), 'blockxsize': 71, 'blockysize': 57, 'tiled': True}"
      ]
     },
     "execution_count": 169,
     "metadata": {},
     "output_type": "execute_result"
    }
   ],
   "source": [
    "sp.Raster(src[0]).meta"
   ]
  },
  {
   "cell_type": "code",
   "execution_count": 181,
   "metadata": {},
   "outputs": [
    {
     "name": "stdout",
     "output_type": "stream",
     "text": [
      "Reading in 360 files\n"
     ]
    }
   ],
   "source": [
    "import sys\n",
    "sys.path.append('/home/war42q')\n",
    "sys.path.append('/home/war42q')\n",
    "from maclab.maclab import spatial as sp\n",
    "from maclab.maclab import utils as ut\n",
    "import rasterio\n",
    "import pandas as pd\n",
    "import icclim\n",
    "from icclim import calc_indice\n",
    "\n",
    "# nc files\n",
    "src = '/OSM/CBR/LW_BACKCAST/work/DEV/awap_indicies/base-period-1960/rain_nc_files.txt'\n",
    "with open(src) as f:\n",
    "    src = f.readlines()\n",
    "f.close()\n",
    "src = [x.strip() for x in src] \n",
    "print('Reading in {0} files'.format(len(src)))\n",
    "\n",
    "# dest\n",
    "dst = '/OSM/CBR/LW_BACKCAST/work/SOURCE/clim/awap_indicies/base-period-1960/TXx_1960C_small.tif'"
   ]
  },
  {
   "cell_type": "code",
   "execution_count": 832,
   "metadata": {},
   "outputs": [
    {
     "data": {
      "text/plain": [
       "'/OSM/CBR/LW_BACKCAST/work/SOURCE/clim/awap_daily/tmax/nc/bom-tmax_day-19460101-19460131.nc'"
      ]
     },
     "execution_count": 832,
     "metadata": {},
     "output_type": "execute_result"
    }
   ],
   "source": [
    "src[0]"
   ]
  },
  {
   "cell_type": "code",
   "execution_count": 833,
   "metadata": {},
   "outputs": [
    {
     "ename": "SystemError",
     "evalue": "<built-in function delete_Dataset> returned a result with an error set",
     "output_type": "error",
     "traceback": [
      "\u001b[0;31m---------------------------------------------------------------------------\u001b[0m",
      "\u001b[0;31mAttributeError\u001b[0m                            Traceback (most recent call last)",
      "\u001b[0;31mAttributeError\u001b[0m: 'Raster' object has no attribute 'read'",
      "\nThe above exception was the direct cause of the following exception:\n",
      "\u001b[0;31mSystemError\u001b[0m                               Traceback (most recent call last)",
      "\u001b[0;32m<ipython-input-833-b2aeeeeeac58>\u001b[0m in \u001b[0;36m<module>\u001b[0;34m()\u001b[0m\n\u001b[1;32m      1\u001b[0m \u001b[0;31m# read into 3D arary\u001b[0m\u001b[0;34m\u001b[0m\u001b[0;34m\u001b[0m\u001b[0m\n\u001b[1;32m      2\u001b[0m \u001b[0;32mimport\u001b[0m \u001b[0mnumpy\u001b[0m \u001b[0;32mas\u001b[0m \u001b[0mnp\u001b[0m\u001b[0;34m\u001b[0m\u001b[0m\n\u001b[0;32m----> 3\u001b[0;31m \u001b[0mbase_period\u001b[0m \u001b[0;34m=\u001b[0m \u001b[0mnp\u001b[0m\u001b[0;34m.\u001b[0m\u001b[0mdstack\u001b[0m\u001b[0;34m(\u001b[0m\u001b[0;34m[\u001b[0m\u001b[0msp\u001b[0m\u001b[0;34m.\u001b[0m\u001b[0mRaster\u001b[0m\u001b[0;34m(\u001b[0m\u001b[0mi\u001b[0m\u001b[0;34m)\u001b[0m\u001b[0;34m.\u001b[0m\u001b[0mread\u001b[0m\u001b[0;34m(\u001b[0m\u001b[0mwindow\u001b[0m \u001b[0;34m=\u001b[0m \u001b[0;34m(\u001b[0m\u001b[0;34m(\u001b[0m\u001b[0;36m300\u001b[0m\u001b[0;34m,\u001b[0m \u001b[0;36m310\u001b[0m\u001b[0;34m)\u001b[0m\u001b[0;34m,\u001b[0m \u001b[0;34m(\u001b[0m\u001b[0;36m400\u001b[0m\u001b[0;34m,\u001b[0m \u001b[0;36m412\u001b[0m\u001b[0;34m)\u001b[0m\u001b[0;34m)\u001b[0m\u001b[0;34m)\u001b[0m\u001b[0;34m.\u001b[0m\u001b[0marray\u001b[0m \u001b[0;32mfor\u001b[0m \u001b[0mi\u001b[0m \u001b[0;32min\u001b[0m \u001b[0msrc\u001b[0m\u001b[0;34m[\u001b[0m\u001b[0;36m0\u001b[0m\u001b[0;34m:\u001b[0m\u001b[0;36m6\u001b[0m\u001b[0;34m]\u001b[0m\u001b[0;34m]\u001b[0m\u001b[0;34m)\u001b[0m\u001b[0;34m\u001b[0m\u001b[0m\n\u001b[0m",
      "\u001b[0;32m<ipython-input-833-b2aeeeeeac58>\u001b[0m in \u001b[0;36m<listcomp>\u001b[0;34m(.0)\u001b[0m\n\u001b[1;32m      1\u001b[0m \u001b[0;31m# read into 3D arary\u001b[0m\u001b[0;34m\u001b[0m\u001b[0;34m\u001b[0m\u001b[0m\n\u001b[1;32m      2\u001b[0m \u001b[0;32mimport\u001b[0m \u001b[0mnumpy\u001b[0m \u001b[0;32mas\u001b[0m \u001b[0mnp\u001b[0m\u001b[0;34m\u001b[0m\u001b[0m\n\u001b[0;32m----> 3\u001b[0;31m \u001b[0mbase_period\u001b[0m \u001b[0;34m=\u001b[0m \u001b[0mnp\u001b[0m\u001b[0;34m.\u001b[0m\u001b[0mdstack\u001b[0m\u001b[0;34m(\u001b[0m\u001b[0;34m[\u001b[0m\u001b[0msp\u001b[0m\u001b[0;34m.\u001b[0m\u001b[0mRaster\u001b[0m\u001b[0;34m(\u001b[0m\u001b[0mi\u001b[0m\u001b[0;34m)\u001b[0m\u001b[0;34m.\u001b[0m\u001b[0mread\u001b[0m\u001b[0;34m(\u001b[0m\u001b[0mwindow\u001b[0m \u001b[0;34m=\u001b[0m \u001b[0;34m(\u001b[0m\u001b[0;34m(\u001b[0m\u001b[0;36m300\u001b[0m\u001b[0;34m,\u001b[0m \u001b[0;36m310\u001b[0m\u001b[0;34m)\u001b[0m\u001b[0;34m,\u001b[0m \u001b[0;34m(\u001b[0m\u001b[0;36m400\u001b[0m\u001b[0;34m,\u001b[0m \u001b[0;36m412\u001b[0m\u001b[0;34m)\u001b[0m\u001b[0;34m)\u001b[0m\u001b[0;34m)\u001b[0m\u001b[0;34m.\u001b[0m\u001b[0marray\u001b[0m \u001b[0;32mfor\u001b[0m \u001b[0mi\u001b[0m \u001b[0;32min\u001b[0m \u001b[0msrc\u001b[0m\u001b[0;34m[\u001b[0m\u001b[0;36m0\u001b[0m\u001b[0;34m:\u001b[0m\u001b[0;36m6\u001b[0m\u001b[0;34m]\u001b[0m\u001b[0;34m]\u001b[0m\u001b[0;34m)\u001b[0m\u001b[0;34m\u001b[0m\u001b[0m\n\u001b[0m",
      "\u001b[0;31mSystemError\u001b[0m: <built-in function delete_Dataset> returned a result with an error set"
     ]
    }
   ],
   "source": [
    "# read into 3D arary\n",
    "import numpy as np\n",
    "base_period = np.dstack([sp.Raster(i).read(window = ((300, 310), (400, 412))).array for i in src[0:6]])"
   ]
  },
  {
   "cell_type": "code",
   "execution_count": null,
   "metadata": {
    "collapsed": true
   },
   "outputs": [],
   "source": [
    "from matplotlib import pyplot as plt\n",
    "%matplotlib inline"
   ]
  },
  {
   "cell_type": "code",
   "execution_count": 834,
   "metadata": {},
   "outputs": [
    {
     "data": {
      "text/plain": [
       "<matplotlib.image.AxesImage at 0x2aab0d335898>"
      ]
     },
     "execution_count": 834,
     "metadata": {},
     "output_type": "execute_result"
    },
    {
     "data": {
      "image/png": "[encoded data removed]",
      "text/plain": [
       "<matplotlib.figure.Figure at 0x2aaafefeebe0>"
      ]
     },
     "metadata": {},
     "output_type": "display_data"
    }
   ],
   "source": [
    "plt.imshow(base_period[:,:,0])"
   ]
  },
  {
   "cell_type": "code",
   "execution_count": 835,
   "metadata": {
    "collapsed": true
   },
   "outputs": [],
   "source": [
    "base_period_s = np.rollaxis(base_period, axis=-1)"
   ]
  },
  {
   "cell_type": "code",
   "execution_count": 836,
   "metadata": {},
   "outputs": [
    {
     "data": {
      "text/plain": [
       "(181, 10, 12)"
      ]
     },
     "execution_count": 836,
     "metadata": {},
     "output_type": "execute_result"
    }
   ],
   "source": [
    "base_period_s.shape"
   ]
  },
  {
   "cell_type": "code",
   "execution_count": 217,
   "metadata": {},
   "outputs": [
    {
     "data": {
      "text/plain": [
       "<matplotlib.image.AxesImage at 0x2aaafd5982e8>"
      ]
     },
     "execution_count": 217,
     "metadata": {},
     "output_type": "execute_result"
    },
    {
     "data": {
      "image/png": "[encoded data removed]",
      "text/plain": [
       "<matplotlib.figure.Figure at 0x2aaafd335a20>"
      ]
     },
     "metadata": {},
     "output_type": "display_data"
    }
   ],
   "source": [
    "plt.imshow(base_period_s[0, :, :])"
   ]
  },
  {
   "cell_type": "code",
   "execution_count": 837,
   "metadata": {
    "collapsed": true
   },
   "outputs": [],
   "source": [
    "## calc SU\n",
    "SU = calc_indice.SU_calculation(arr = base_period_s, fill_val = -9999)"
   ]
  },
  {
   "cell_type": "code",
   "execution_count": 844,
   "metadata": {
    "collapsed": true
   },
   "outputs": [],
   "source": [
    "base_period_s += 273.15"
   ]
  },
  {
   "cell_type": "code",
   "execution_count": 845,
   "metadata": {},
   "outputs": [
    {
     "data": {
      "text/plain": [
       "<matplotlib.image.AxesImage at 0x2aab0d45bcf8>"
      ]
     },
     "execution_count": 845,
     "metadata": {},
     "output_type": "execute_result"
    },
    {
     "data": {
      "image/png": "[encoded data removed]",
      "text/plain": [
       "<matplotlib.figure.Figure at 0x2aaafca2ae10>"
      ]
     },
     "metadata": {},
     "output_type": "display_data"
    }
   ],
   "source": [
    "plt.imshow(base_period_s[0, :, :])"
   ]
  },
  {
   "cell_type": "code",
   "execution_count": 846,
   "metadata": {
    "collapsed": true
   },
   "outputs": [],
   "source": [
    "SU = calc_indice.SU_calculation(arr = base_period_s, fill_val = -9999)"
   ]
  },
  {
   "cell_type": "code",
   "execution_count": 847,
   "metadata": {},
   "outputs": [
    {
     "data": {
      "text/plain": [
       "<matplotlib.image.AxesImage at 0x2aab0d4e6d30>"
      ]
     },
     "execution_count": 847,
     "metadata": {},
     "output_type": "execute_result"
    },
    {
     "data": {
      "image/png": "[encoded data removed]",
      "text/plain": [
       "<matplotlib.figure.Figure at 0x2aab0d466f98>"
      ]
     },
     "metadata": {},
     "output_type": "display_data"
    }
   ],
   "source": [
    "plt.imshow(SU)"
   ]
  },
  {
   "cell_type": "code",
   "execution_count": 135,
   "metadata": {
    "collapsed": true
   },
   "outputs": [],
   "source": [
    "# calc TXx\n",
    "TXx = calc_indice.TXx_calculation(arr = base_period, fill_val = -9999)"
   ]
  },
  {
   "cell_type": "code",
   "execution_count": 137,
   "metadata": {},
   "outputs": [
    {
     "data": {
      "text/plain": [
       "<matplotlib.image.AxesImage at 0x2aaafc6ffbe0>"
      ]
     },
     "execution_count": 137,
     "metadata": {},
     "output_type": "execute_result"
    },
    {
     "data": {
      "image/png": "[encoded data removed]",
      "text/plain": [
       "<matplotlib.figure.Figure at 0x2aaafa381160>"
      ]
     },
     "metadata": {},
     "output_type": "display_data"
    }
   ],
   "source": [
    "plt.imshow(TXx)"
   ]
  },
  {
   "cell_type": "code",
   "execution_count": 123,
   "metadata": {
    "collapsed": true
   },
   "outputs": [],
   "source": [
    "xx = np.arange(1, 13, 1).reshape(2,2,3)"
   ]
  },
  {
   "cell_type": "code",
   "execution_count": 125,
   "metadata": {},
   "outputs": [
    {
     "data": {
      "text/plain": [
       "array([[ 2,  5],\n",
       "       [ 8, 11]])"
      ]
     },
     "execution_count": 125,
     "metadata": {},
     "output_type": "execute_result"
    }
   ],
   "source": [
    "xx[:, :, 1]"
   ]
  },
  {
   "cell_type": "code",
   "execution_count": 128,
   "metadata": {
    "collapsed": true
   },
   "outputs": [],
   "source": [
    "swp = np.swapaxes(xx, 2, 0)"
   ]
  },
  {
   "cell_type": "code",
   "execution_count": 132,
   "metadata": {},
   "outputs": [
    {
     "data": {
      "text/plain": [
       "array([[[ 1,  2,  3],\n",
       "        [ 4,  5,  6]],\n",
       "\n",
       "       [[ 7,  8,  9],\n",
       "        [10, 11, 12]]])"
      ]
     },
     "execution_count": 132,
     "metadata": {},
     "output_type": "execute_result"
    }
   ],
   "source": [
    "xx"
   ]
  },
  {
   "cell_type": "code",
   "execution_count": 133,
   "metadata": {},
   "outputs": [
    {
     "data": {
      "text/plain": [
       "array([[ 1,  7],\n",
       "       [ 4, 10]])"
      ]
     },
     "execution_count": 133,
     "metadata": {},
     "output_type": "execute_result"
    }
   ],
   "source": [
    "swp[0, :, :]"
   ]
  },
  {
   "cell_type": "code",
   "execution_count": null,
   "metadata": {
    "collapsed": true
   },
   "outputs": [],
   "source": [
    "# write... optimistically\n",
    "meta = sp.Raster(src[0]).meta\n",
    "meta['count'] = 1\n",
    "meta['dtype'] = 'float32'\n",
    "meta['driver'] = 'GTiff'\n",
    "meta['nodata'] = -9999\n",
    "\n",
    "rm_keys = ['blockxsize', 'blockysize', 'tiled']\n",
    "for k in rm_keys:\n",
    "    if k in meta:\n",
    "        del meta[k]\n",
    "\n",
    "with rasterio.open(dst, 'w', **meta) as output:\n",
    "    output.write(TXx.astype('float32'), 1)"
   ]
  },
  {
   "cell_type": "code",
   "execution_count": null,
   "metadata": {
    "collapsed": true
   },
   "outputs": [],
   "source": []
  },
  {
   "cell_type": "code",
   "execution_count": 23,
   "metadata": {
    "collapsed": true
   },
   "outputs": [],
   "source": [
    "from maclab.maclab import spatial as sp"
   ]
  },
  {
   "cell_type": "code",
   "execution_count": 31,
   "metadata": {},
   "outputs": [
    {
     "data": {
      "text/plain": [
       "'/OSM/CBR/LW_BACKCAST/work/SOURCE/clim/awap_daily/tmax/nc/bom-tmax_day-19460101-19460131.nc'"
      ]
     },
     "execution_count": 31,
     "metadata": {},
     "output_type": "execute_result"
    }
   ],
   "source": [
    "src[0]"
   ]
  },
  {
   "cell_type": "code",
   "execution_count": 64,
   "metadata": {
    "collapsed": true
   },
   "outputs": [],
   "source": [
    "import rasterio\n",
    "y = rasterio.open(src[0])"
   ]
  },
  {
   "cell_type": "code",
   "execution_count": 955,
   "metadata": {},
   "outputs": [
    {
     "name": "stdout",
     "output_type": "stream",
     "text": [
      "Overwriting test_argparse.py\n"
     ]
    }
   ],
   "source": [
    "%%writefile test_argparse.py\n",
    "import argparse\n",
    "\n",
    "parser = argparse.ArgumentParser()\n",
    "parser.add_argument('-k', '--cel2kel', \\\n",
    "                    help='Convert input array from celsius to kelvin. ' + \\\n",
    "                    '<Optional> Set flag', action=\"store_true\")\n",
    "parser.add_argument(\"-v\", \"--verbose\", action=\"store_true\",\n",
    "                    help=\"print messages to console\")\n",
    "parser.add_argument('-fn', '--filename', \\\n",
    "                    help='String to add to add to the filename. By default, the filename ' + \\\n",
    "                    'is given as <indicie>.tif. <Optional> Set flag')\n",
    "args = parser.parse_args()\n",
    "\n",
    "print(args)\n",
    "print(vars(args))\n",
    "if args.filename:\n",
    "    print('RAH.{0}'.format(args.filename))"
   ]
  },
  {
   "cell_type": "code",
   "execution_count": 957,
   "metadata": {},
   "outputs": [
    {
     "name": "stdout",
     "output_type": "stream",
     "text": [
      "Namespace(cel2kel=False, filename=None, verbose=True)\n",
      "{'cel2kel': False, 'verbose': True, 'filename': None}\n"
     ]
    }
   ],
   "source": [
    "%run test_argparse.py -v"
   ]
  },
  {
   "cell_type": "code",
   "execution_count": 70,
   "metadata": {},
   "outputs": [
    {
     "data": {
      "text/plain": [
       "{'driver': 'netCDF', 'dtype': 'float64', 'nodata': -999.0, 'width': 841, 'height': 681, 'count': 31, 'crs': CRS({'proj': 'longlat', 'ellps': 'WGS84', 'no_defs': True}), 'transform': Affine(0.05, 0.0, 111.975,\n",
       "       0.0, -0.05, -9.975), 'blockxsize': 71, 'blockysize': 57, 'tiled': True}"
      ]
     },
     "execution_count": 70,
     "metadata": {},
     "output_type": "execute_result"
    }
   ],
   "source": [
    "x.src.profile"
   ]
  },
  {
   "cell_type": "code",
   "execution_count": 34,
   "metadata": {
    "collapsed": true
   },
   "outputs": [],
   "source": [
    "x = sp.Raster(src[0]).read()"
   ]
  },
  {
   "cell_type": "code",
   "execution_count": null,
   "metadata": {
    "collapsed": true
   },
   "outputs": [],
   "source": [
    "#sys.getsizeof(object[, default]):"
   ]
  },
  {
   "cell_type": "code",
   "execution_count": 58,
   "metadata": {
    "collapsed": true
   },
   "outputs": [],
   "source": [
    "from matplotlib import pyplot as plt\n",
    "%matplotlib inline"
   ]
  },
  {
   "cell_type": "code",
   "execution_count": 59,
   "metadata": {},
   "outputs": [
    {
     "data": {
      "text/plain": [
       "<matplotlib.image.AxesImage at 0x2aaaff659400>"
      ]
     },
     "execution_count": 59,
     "metadata": {},
     "output_type": "execute_result"
    },
    {
     "data": {
      "image/png": "[encoded data removed]",
      "text/plain": [
       "<matplotlib.figure.Figure at 0x2aaaff346160>"
      ]
     },
     "metadata": {},
     "output_type": "display_data"
    }
   ],
   "source": [
    "plt.imshow(x.array[:, :, 0])"
   ]
  },
  {
   "cell_type": "code",
   "execution_count": 14,
   "metadata": {},
   "outputs": [
    {
     "name": "stdout",
     "output_type": "stream",
     "text": [
      "Collecting git+https://github.com/cerfacs-globc/icclim.git\n",
      "  Cloning https://github.com/cerfacs-globc/icclim.git to /tmp/pip-tvbdh3wd-build\n",
      "Installing collected packages: icclim\n",
      "  Running setup.py install for icclim ... \u001b[?25ldone\n",
      "\u001b[?25hSuccessfully installed icclim-4.2.11\n",
      "\u001b[33mYou are using pip version 9.0.1, however version 18.0 is available.\n",
      "You should consider upgrading via the 'pip install --upgrade pip' command.\u001b[0m\n"
     ]
    }
   ],
   "source": [
    "!pip install --user git+https://github.com/cerfacs-globc/icclim.git"
   ]
  },
  {
   "cell_type": "code",
   "execution_count": 89,
   "metadata": {},
   "outputs": [
    {
     "data": {
      "text/plain": [
       "<module 'icclim' from '/home/war42q/.local/lib/python3.6/site-packages/icclim/__init__.py'>"
      ]
     },
     "execution_count": 89,
     "metadata": {},
     "output_type": "execute_result"
    }
   ],
   "source": [
    "import icclim\n",
    "import importlib\n",
    "importlib.reload(icclim)"
   ]
  },
  {
   "cell_type": "code",
   "execution_count": 94,
   "metadata": {
    "collapsed": true
   },
   "outputs": [],
   "source": [
    "from icclim import calc_indice\n",
    "calc_indice.TXx_calculation??"
   ]
  },
  {
   "cell_type": "code",
   "execution_count": 93,
   "metadata": {
    "collapsed": true
   },
   "outputs": [],
   "source": [
    "calc_indice.TXx_calculation??"
   ]
  },
  {
   "cell_type": "code",
   "execution_count": null,
   "metadata": {
    "collapsed": true
   },
   "outputs": [],
   "source": []
  },
  {
   "cell_type": "markdown",
   "metadata": {},
   "source": [
    "** Calc extremes **\n",
    "***\n",
    "##### TX90p"
   ]
  },
  {
   "cell_type": "code",
   "execution_count": null,
   "metadata": {
    "collapsed": true
   },
   "outputs": [],
   "source": []
  },
  {
   "cell_type": "code",
   "execution_count": 545,
   "metadata": {},
   "outputs": [
    {
     "name": "stdout",
     "output_type": "stream",
     "text": [
      "Have set up the following first and last windows:\n",
      "(1913, 1927), (2003, 2017)\n"
     ]
    }
   ],
   "source": [
    "## windows\n",
    "start_year = 2017\n",
    "end_year = 1901\n",
    "\n",
    "window_starts = [start_year]\n",
    "x = start_year\n",
    "while x > end_year:\n",
    "    window_starts.append(x - 10)\n",
    "    x-=10\n",
    "window_starts = window_starts[:-1]\n",
    "window_ends = [i-14 for i in window_starts]\n",
    "window_ends[-1] = end_year\n",
    "\n",
    "windows = list(zip(window_ends, window_starts))[::-1]\n",
    "windows = windows[2:]\n",
    "print('Have set up the following first and last windows:\\n%s, %s' %(windows[0], windows[-1]))"
   ]
  },
  {
   "cell_type": "code",
   "execution_count": 546,
   "metadata": {},
   "outputs": [
    {
     "name": "stdout",
     "output_type": "stream",
     "text": [
      "All 10 windows now have 180 files\n"
     ]
    }
   ],
   "source": [
    "by_window = []\n",
    "for win in windows:\n",
    "    mn, mx = str(win[0]), str(win[1])\n",
    "    this_win = []\n",
    "    for yr in by_year.keys():\n",
    "        if yr >= mn and yr <= mx:\n",
    "            this_win.append({yr:by_year[yr]})\n",
    "    by_window.append(this_win)\n",
    "allwindows = all([len(i) for i in by_window]) \n",
    "tally = []\n",
    "for i in by_window:\n",
    "    kys = sum([list(i[y].keys()) for y in range(len(by_window[0]))],[]) \n",
    "    x = 0\n",
    "    for y in range(len(kys)):\n",
    "        x+=len(i[y][kys[y]])\n",
    "    tally.append(x)\n",
    "if all(tally) and allwindows:\n",
    "    print('All {0} windows now have {1} files'.format(len(by_window), tally[0]))"
   ]
  },
  {
   "cell_type": "code",
   "execution_count": 617,
   "metadata": {
    "collapsed": true
   },
   "outputs": [],
   "source": [
    "#x = rasterio.open(testfile)"
   ]
  },
  {
   "cell_type": "code",
   "execution_count": 564,
   "metadata": {},
   "outputs": [
    {
     "ename": "TypeError",
     "evalue": "invalid path or file: {'1927': ['/OSM/CBR/LW_BACKCAST/work/SOURCE/clim/awap_daily/rain/nc/bom-rain_day-19270101-19270131.nc', '/OSM/CBR/LW_BACKCAST/work/SOURCE/clim/awap_daily/rain/nc/bom-rain_day-19270201-19270228.nc', '/OSM/CBR/LW_BACKCAST/work/SOURCE/clim/awap_daily/rain/nc/bom-rain_day-19270301-19270331.nc', '/OSM/CBR/LW_BACKCAST/work/SOURCE/clim/awap_daily/rain/nc/bom-rain_day-19270401-19270430.nc', '/OSM/CBR/LW_BACKCAST/work/SOURCE/clim/awap_daily/rain/nc/bom-rain_day-19270501-19270531.nc', '/OSM/CBR/LW_BACKCAST/work/SOURCE/clim/awap_daily/rain/nc/bom-rain_day-19270601-19270630.nc', '/OSM/CBR/LW_BACKCAST/work/SOURCE/clim/awap_daily/rain/nc/bom-rain_day-19270701-19270731.nc', '/OSM/CBR/LW_BACKCAST/work/SOURCE/clim/awap_daily/rain/nc/bom-rain_day-19270801-19270831.nc', '/OSM/CBR/LW_BACKCAST/work/SOURCE/clim/awap_daily/rain/nc/bom-rain_day-19270901-19270930.nc', '/OSM/CBR/LW_BACKCAST/work/SOURCE/clim/awap_daily/rain/nc/bom-rain_day-19271001-19271031.nc', '/OSM/CBR/LW_BACKCAST/work/SOURCE/clim/awap_daily/rain/nc/bom-rain_day-19271101-19271130.nc', '/OSM/CBR/LW_BACKCAST/work/SOURCE/clim/awap_daily/rain/nc/bom-rain_day-19271201-19271231.nc']}",
     "output_type": "error",
     "traceback": [
      "\u001b[0;31m---------------------------------------------------------------------------\u001b[0m",
      "\u001b[0;31mTypeError\u001b[0m                                 Traceback (most recent call last)",
      "\u001b[0;32m<ipython-input-564-9fc9520a79e8>\u001b[0m in \u001b[0;36m<module>\u001b[0;34m()\u001b[0m\n\u001b[1;32m      9\u001b[0m     \u001b[0mmonthly_totals\u001b[0m \u001b[0;34m=\u001b[0m \u001b[0;34m[\u001b[0m\u001b[0mnp\u001b[0m\u001b[0;34m.\u001b[0m\u001b[0msum\u001b[0m\u001b[0;34m(\u001b[0m\u001b[0mmonth\u001b[0m\u001b[0;34m,\u001b[0m \u001b[0maxis\u001b[0m \u001b[0;34m=\u001b[0m \u001b[0;36m2\u001b[0m\u001b[0;34m)\u001b[0m \u001b[0;32mfor\u001b[0m \u001b[0mmonth\u001b[0m \u001b[0;32min\u001b[0m \u001b[0mmonthly\u001b[0m\u001b[0;34m]\u001b[0m\u001b[0;34m\u001b[0m\u001b[0m\n\u001b[1;32m     10\u001b[0m     \u001b[0myear_total\u001b[0m \u001b[0;34m=\u001b[0m \u001b[0mnp\u001b[0m\u001b[0;34m.\u001b[0m\u001b[0msum\u001b[0m\u001b[0;34m(\u001b[0m\u001b[0mnp\u001b[0m\u001b[0;34m.\u001b[0m\u001b[0mdstack\u001b[0m\u001b[0;34m(\u001b[0m\u001b[0mmonthly_totals\u001b[0m\u001b[0;34m)\u001b[0m\u001b[0;34m,\u001b[0m \u001b[0maxis\u001b[0m \u001b[0;34m=\u001b[0m \u001b[0;36m2\u001b[0m\u001b[0;34m)\u001b[0m\u001b[0;34m\u001b[0m\u001b[0m\n\u001b[0;32m---> 11\u001b[0;31m \u001b[0maff\u001b[0m \u001b[0;34m=\u001b[0m \u001b[0msp\u001b[0m\u001b[0;34m.\u001b[0m\u001b[0mRaster\u001b[0m\u001b[0;34m(\u001b[0m\u001b[0mwin\u001b[0m\u001b[0;34m[\u001b[0m\u001b[0my\u001b[0m\u001b[0;34m]\u001b[0m\u001b[0;34m)\u001b[0m\u001b[0;34m.\u001b[0m\u001b[0mmeta\u001b[0m\u001b[0;34m[\u001b[0m\u001b[0;34m'aff'\u001b[0m\u001b[0;34m]\u001b[0m\u001b[0;34m\u001b[0m\u001b[0m\n\u001b[0m\u001b[1;32m     12\u001b[0m \u001b[0masRaster\u001b[0m \u001b[0;34m=\u001b[0m \u001b[0msp\u001b[0m\u001b[0;34m.\u001b[0m\u001b[0mRaster\u001b[0m\u001b[0;34m(\u001b[0m\u001b[0myear_total\u001b[0m\u001b[0;34m,\u001b[0m \u001b[0maffine\u001b[0m \u001b[0;34m=\u001b[0m \u001b[0maff\u001b[0m\u001b[0;34m)\u001b[0m\u001b[0;34m\u001b[0m\u001b[0m\n\u001b[1;32m     13\u001b[0m \u001b[0mdst\u001b[0m \u001b[0;34m=\u001b[0m \u001b[0mos\u001b[0m\u001b[0;34m.\u001b[0m\u001b[0mpath\u001b[0m\u001b[0;34m.\u001b[0m\u001b[0mbasename\u001b[0m\u001b[0;34m(\u001b[0m\u001b[0mwin\u001b[0m\u001b[0;34m[\u001b[0m\u001b[0my\u001b[0m\u001b[0;34m]\u001b[0m\u001b[0;34m)\u001b[0m\u001b[0;34m.\u001b[0m\u001b[0msplit\u001b[0m\u001b[0;34m(\u001b[0m\u001b[0;34m'_'\u001b[0m\u001b[0;34m)\u001b[0m\u001b[0;34m[\u001b[0m\u001b[0;36m0\u001b[0m\u001b[0;34m]\u001b[0m\u001b[0;34m\u001b[0m\u001b[0m\n",
      "\u001b[0;32m~/maclab/maclab/spatial.py\u001b[0m in \u001b[0;36m__init__\u001b[0;34m(self, raster, affine, nodata, band, driver, crs)\u001b[0m\n\u001b[1;32m     71\u001b[0m \u001b[0;34m\u001b[0m\u001b[0m\n\u001b[1;32m     72\u001b[0m         \u001b[0;32melse\u001b[0m\u001b[0;34m:\u001b[0m\u001b[0;34m\u001b[0m\u001b[0m\n\u001b[0;32m---> 73\u001b[0;31m             \u001b[0mself\u001b[0m\u001b[0;34m.\u001b[0m\u001b[0msrc\u001b[0m \u001b[0;34m=\u001b[0m \u001b[0mrasterio\u001b[0m\u001b[0;34m.\u001b[0m\u001b[0mopen\u001b[0m\u001b[0;34m(\u001b[0m\u001b[0mraster\u001b[0m\u001b[0;34m,\u001b[0m \u001b[0;34m'r'\u001b[0m\u001b[0;34m)\u001b[0m\u001b[0;34m\u001b[0m\u001b[0m\n\u001b[0m\u001b[1;32m     74\u001b[0m             \u001b[0mself\u001b[0m\u001b[0;34m.\u001b[0m\u001b[0maffine\u001b[0m \u001b[0;34m=\u001b[0m \u001b[0mguard_transform\u001b[0m\u001b[0;34m(\u001b[0m\u001b[0mself\u001b[0m\u001b[0;34m.\u001b[0m\u001b[0msrc\u001b[0m\u001b[0;34m.\u001b[0m\u001b[0mtransform\u001b[0m\u001b[0;34m)\u001b[0m\u001b[0;34m\u001b[0m\u001b[0m\n\u001b[1;32m     75\u001b[0m             \u001b[0mself\u001b[0m\u001b[0;34m.\u001b[0m\u001b[0mshape\u001b[0m \u001b[0;34m=\u001b[0m \u001b[0;34m(\u001b[0m\u001b[0mself\u001b[0m\u001b[0;34m.\u001b[0m\u001b[0msrc\u001b[0m\u001b[0;34m.\u001b[0m\u001b[0mheight\u001b[0m\u001b[0;34m,\u001b[0m \u001b[0mself\u001b[0m\u001b[0;34m.\u001b[0m\u001b[0msrc\u001b[0m\u001b[0;34m.\u001b[0m\u001b[0mwidth\u001b[0m\u001b[0;34m)\u001b[0m\u001b[0;34m\u001b[0m\u001b[0m\n",
      "\u001b[0;32m~/.local/lib/python3.6/site-packages/rasterio/env.py\u001b[0m in \u001b[0;36mwrapper\u001b[0;34m(*args, **kwds)\u001b[0m\n\u001b[1;32m    401\u001b[0m             \u001b[0;32melse\u001b[0m\u001b[0;34m:\u001b[0m\u001b[0;34m\u001b[0m\u001b[0m\n\u001b[1;32m    402\u001b[0m                 \u001b[0;32mpass\u001b[0m\u001b[0;34m\u001b[0m\u001b[0m\n\u001b[0;32m--> 403\u001b[0;31m             \u001b[0;32mreturn\u001b[0m \u001b[0mf\u001b[0m\u001b[0;34m(\u001b[0m\u001b[0;34m*\u001b[0m\u001b[0margs\u001b[0m\u001b[0;34m,\u001b[0m \u001b[0;34m**\u001b[0m\u001b[0mkwds\u001b[0m\u001b[0;34m)\u001b[0m\u001b[0;34m\u001b[0m\u001b[0m\n\u001b[0m\u001b[1;32m    404\u001b[0m \u001b[0;34m\u001b[0m\u001b[0m\n\u001b[1;32m    405\u001b[0m     \u001b[0;32mreturn\u001b[0m \u001b[0mwrapper\u001b[0m\u001b[0;34m\u001b[0m\u001b[0m\n",
      "\u001b[0;32m~/.local/lib/python3.6/site-packages/rasterio/__init__.py\u001b[0m in \u001b[0;36mopen\u001b[0;34m(fp, mode, driver, width, height, count, crs, transform, dtype, nodata, sharing, **kwargs)\u001b[0m\n\u001b[1;32m    152\u001b[0m     \u001b[0;32mif\u001b[0m \u001b[0;32mnot\u001b[0m \u001b[0misinstance\u001b[0m\u001b[0;34m(\u001b[0m\u001b[0mfp\u001b[0m\u001b[0;34m,\u001b[0m \u001b[0mstring_types\u001b[0m\u001b[0;34m)\u001b[0m\u001b[0;34m:\u001b[0m\u001b[0;34m\u001b[0m\u001b[0m\n\u001b[1;32m    153\u001b[0m         \u001b[0;32mif\u001b[0m \u001b[0;32mnot\u001b[0m \u001b[0;34m(\u001b[0m\u001b[0mhasattr\u001b[0m\u001b[0;34m(\u001b[0m\u001b[0mfp\u001b[0m\u001b[0;34m,\u001b[0m \u001b[0;34m'read'\u001b[0m\u001b[0;34m)\u001b[0m \u001b[0;32mor\u001b[0m \u001b[0mhasattr\u001b[0m\u001b[0;34m(\u001b[0m\u001b[0mfp\u001b[0m\u001b[0;34m,\u001b[0m \u001b[0;34m'write'\u001b[0m\u001b[0;34m)\u001b[0m \u001b[0;32mor\u001b[0m \u001b[0misinstance\u001b[0m\u001b[0;34m(\u001b[0m\u001b[0mfp\u001b[0m\u001b[0;34m,\u001b[0m \u001b[0mPath\u001b[0m\u001b[0;34m)\u001b[0m\u001b[0;34m)\u001b[0m\u001b[0;34m:\u001b[0m\u001b[0;34m\u001b[0m\u001b[0m\n\u001b[0;32m--> 154\u001b[0;31m             \u001b[0;32mraise\u001b[0m \u001b[0mTypeError\u001b[0m\u001b[0;34m(\u001b[0m\u001b[0;34m\"invalid path or file: {0!r}\"\u001b[0m\u001b[0;34m.\u001b[0m\u001b[0mformat\u001b[0m\u001b[0;34m(\u001b[0m\u001b[0mfp\u001b[0m\u001b[0;34m)\u001b[0m\u001b[0;34m)\u001b[0m\u001b[0;34m\u001b[0m\u001b[0m\n\u001b[0m\u001b[1;32m    155\u001b[0m     \u001b[0;32mif\u001b[0m \u001b[0mmode\u001b[0m \u001b[0;32mand\u001b[0m \u001b[0;32mnot\u001b[0m \u001b[0misinstance\u001b[0m\u001b[0;34m(\u001b[0m\u001b[0mmode\u001b[0m\u001b[0;34m,\u001b[0m \u001b[0mstring_types\u001b[0m\u001b[0;34m)\u001b[0m\u001b[0;34m:\u001b[0m\u001b[0;34m\u001b[0m\u001b[0m\n\u001b[1;32m    156\u001b[0m         \u001b[0;32mraise\u001b[0m \u001b[0mTypeError\u001b[0m\u001b[0;34m(\u001b[0m\u001b[0;34m\"invalid mode: {0!r}\"\u001b[0m\u001b[0;34m.\u001b[0m\u001b[0mformat\u001b[0m\u001b[0;34m(\u001b[0m\u001b[0mmode\u001b[0m\u001b[0;34m)\u001b[0m\u001b[0;34m)\u001b[0m\u001b[0;34m\u001b[0m\u001b[0m\n",
      "\u001b[0;31mTypeError\u001b[0m: invalid path or file: {'1927': ['/OSM/CBR/LW_BACKCAST/work/SOURCE/clim/awap_daily/rain/nc/bom-rain_day-19270101-19270131.nc', '/OSM/CBR/LW_BACKCAST/work/SOURCE/clim/awap_daily/rain/nc/bom-rain_day-19270201-19270228.nc', '/OSM/CBR/LW_BACKCAST/work/SOURCE/clim/awap_daily/rain/nc/bom-rain_day-19270301-19270331.nc', '/OSM/CBR/LW_BACKCAST/work/SOURCE/clim/awap_daily/rain/nc/bom-rain_day-19270401-19270430.nc', '/OSM/CBR/LW_BACKCAST/work/SOURCE/clim/awap_daily/rain/nc/bom-rain_day-19270501-19270531.nc', '/OSM/CBR/LW_BACKCAST/work/SOURCE/clim/awap_daily/rain/nc/bom-rain_day-19270601-19270630.nc', '/OSM/CBR/LW_BACKCAST/work/SOURCE/clim/awap_daily/rain/nc/bom-rain_day-19270701-19270731.nc', '/OSM/CBR/LW_BACKCAST/work/SOURCE/clim/awap_daily/rain/nc/bom-rain_day-19270801-19270831.nc', '/OSM/CBR/LW_BACKCAST/work/SOURCE/clim/awap_daily/rain/nc/bom-rain_day-19270901-19270930.nc', '/OSM/CBR/LW_BACKCAST/work/SOURCE/clim/awap_daily/rain/nc/bom-rain_day-19271001-19271031.nc', '/OSM/CBR/LW_BACKCAST/work/SOURCE/clim/awap_daily/rain/nc/bom-rain_day-19271101-19271130.nc', '/OSM/CBR/LW_BACKCAST/work/SOURCE/clim/awap_daily/rain/nc/bom-rain_day-19271201-19271231.nc']}"
     ]
    }
   ],
   "source": [
    "from rasterio.crs import CRS\n",
    "crs = CRS(init='epsg:4283')\n",
    "#for win in by_window:\n",
    "win = by_window[0]\n",
    "kys = sum([list(win[y].keys()) for y in range(len(win))],[])\n",
    "for y in range(len(kys)):\n",
    "    this_yr = win[y][kys[y]]\n",
    "    monthly = [sp.Raster(month).read().array for month in this_yr]\n",
    "    monthly_totals = [np.sum(month, axis = 2) for month in monthly]\n",
    "    year_total = np.sum(np.dstack(monthly_totals), axis = 2)\n",
    "template_path = win[y][kys[y]][0]\n",
    "aff = sp.Raster(template_path).meta['transform']\n",
    "asRaster = sp.Raster(year_total, affine = aff)\n",
    "fname = os.path.basename(template_path).split('_')[0]\n",
    "dst = os.path.dirname(os.path.dirname(template_path))\n",
    "dst = '{0}/tif/{1}_annual_total.tif'.format(dst, fname)\n",
    "asRaster.write(dst)\n",
    "        \n",
    "        "
   ]
  },
  {
   "cell_type": "markdown",
   "metadata": {},
   "source": [
    "***\n",
    "***"
   ]
  },
  {
   "cell_type": "code",
   "execution_count": null,
   "metadata": {
    "collapsed": true
   },
   "outputs": [],
   "source": [
    "## See packages:\n",
    "## trefoil\n",
    "## ocgis "
   ]
  },
  {
   "cell_type": "code",
   "execution_count": 2,
   "metadata": {
    "collapsed": true
   },
   "outputs": [],
   "source": [
    "#!pip install --user trefoil"
   ]
  },
  {
   "cell_type": "code",
   "execution_count": 8,
   "metadata": {
    "collapsed": true
   },
   "outputs": [],
   "source": [
    "%run startup.py"
   ]
  },
  {
   "cell_type": "code",
   "execution_count": 10,
   "metadata": {},
   "outputs": [
    {
     "data": {
      "text/plain": [
       "'/OSM/CBR/LW_BACKCAST/work/SOURCE/clim/awap_daily/rain/bom-rain_day-19400501-19400531.nc'"
      ]
     },
     "execution_count": 10,
     "metadata": {},
     "output_type": "execute_result"
    }
   ],
   "source": [
    "nc_src = admin.listfiles(var_dir, '.nc')[0]\n",
    "nc_src"
   ]
  },
  {
   "cell_type": "code",
   "execution_count": 31,
   "metadata": {
    "collapsed": true
   },
   "outputs": [],
   "source": [
    "x = sp.Raster(nc_src).read()"
   ]
  },
  {
   "cell_type": "code",
   "execution_count": 34,
   "metadata": {
    "collapsed": true
   },
   "outputs": [],
   "source": [
    "from matplotlib import pyplot as plt\n",
    "%matplotlib inline"
   ]
  },
  {
   "cell_type": "code",
   "execution_count": null,
   "metadata": {
    "collapsed": true
   },
   "outputs": [],
   "source": []
  },
  {
   "cell_type": "code",
   "execution_count": 19,
   "metadata": {
    "collapsed": true
   },
   "outputs": [],
   "source": [
    "from trefoil.netcdf import describe\n",
    "from trefoil.netcdf import conversion as cv"
   ]
  },
  {
   "cell_type": "code",
   "execution_count": 20,
   "metadata": {
    "collapsed": true
   },
   "outputs": [],
   "source": [
    "#describe.describe(nc_src)"
   ]
  },
  {
   "cell_type": "code",
   "execution_count": 21,
   "metadata": {
    "collapsed": true
   },
   "outputs": [],
   "source": [
    "dst = '%s/tif/%s.tif'%(var_dir, os.path.basename(nc_src)[:-3])\n",
    "#cv.netcdf_to_raster(nc_src, variable_name = 'rain_day', outfilename = dst, index = 0, projection = prj)"
   ]
  },
  {
   "cell_type": "code",
   "execution_count": 22,
   "metadata": {
    "collapsed": true
   },
   "outputs": [],
   "source": [
    "from trefoil.netcdf import crs"
   ]
  },
  {
   "cell_type": "code",
   "execution_count": 23,
   "metadata": {
    "collapsed": true
   },
   "outputs": [],
   "source": [
    "from netCDF4 import Dataset\n",
    "from pyproj import Proj, pj_list, pj_ellps, pyproj_datadir"
   ]
  },
  {
   "cell_type": "code",
   "execution_count": 41,
   "metadata": {
    "collapsed": true
   },
   "outputs": [],
   "source": [
    "ds = Dataset(nc_src, 'r')"
   ]
  },
  {
   "cell_type": "code",
   "execution_count": 52,
   "metadata": {
    "collapsed": true
   },
   "outputs": [],
   "source": [
    "prj = Proj(crs.get_crs(ds, 'rain_day'))"
   ]
  },
  {
   "cell_type": "code",
   "execution_count": 24,
   "metadata": {
    "collapsed": true
   },
   "outputs": [],
   "source": [
    "from maclab.maclab import spatial as sp"
   ]
  },
  {
   "cell_type": "code",
   "execution_count": 72,
   "metadata": {
    "collapsed": true
   },
   "outputs": [],
   "source": [
    "from matplotlib import pyplot as plt\n",
    "%matplotlib inline"
   ]
  },
  {
   "cell_type": "code",
   "execution_count": 25,
   "metadata": {
    "collapsed": true
   },
   "outputs": [],
   "source": [
    "import xarray"
   ]
  },
  {
   "cell_type": "code",
   "execution_count": 26,
   "metadata": {
    "collapsed": true
   },
   "outputs": [],
   "source": [
    "xs = xarray.open_dataset(nc_src)"
   ]
  },
  {
   "cell_type": "code",
   "execution_count": 27,
   "metadata": {},
   "outputs": [
    {
     "data": {
      "text/plain": [
       "<xarray.Dataset>\n",
       "Dimensions:      (latitude: 681, longitude: 841, nv: 2, time: 31)\n",
       "Coordinates:\n",
       "  * time         (time) datetime64[ns] 1940-05-01 1940-05-02 1940-05-03 ...\n",
       "  * latitude     (latitude) float64 -10.0 -10.05 -10.1 -10.15 -10.2 -10.25 ...\n",
       "  * longitude    (longitude) float64 112.0 112.0 112.1 112.2 112.2 112.2 ...\n",
       "Dimensions without coordinates: nv\n",
       "Data variables:\n",
       "    rain_day     (time, latitude, longitude) float64 0.0 0.0 0.0 0.0 0.0 0.0 ...\n",
       "    crs          int32 -2147483647\n",
       "    time_bounds  (time, nv) float64 5.125e+04 5.125e+04 5.125e+04 5.126e+04 ...\n",
       "    lat_bounds   (latitude, nv) float64 -9.975 -10.03 -10.03 -10.08 -10.07 ...\n",
       "    lon_bounds   (longitude, nv) float64 112.0 112.0 112.0 112.1 112.1 112.1 ...\n",
       "Attributes:\n",
       "    Conventions:                CF-1.6\n",
       "    title:                      Australian Gridded Climate Data\n",
       "    summary:                    The AGDC is a high-quality set of historical ...\n",
       "    license:                    Copyright for any data supplied by the Bureau...\n",
       "    date_created:               2014-10-26T15:44:02\n",
       "    creator_name:               NCC Information Officer\n",
       "    creator_email:              none\n",
       "    institution:                Bureau of Meteorology (BoM), 700 Collins St, ...\n",
       "    creator_url:                http://www.bom.gov.au\n",
       "    publisher_name:             CSIRO Australian Water Availability Project (...\n",
       "    publisher_email:            data@auscover.org.au\n",
       "    publisher_url:              http://www.csiro.au/awap\n",
       "    standard_name_vocabulary:   CF Standard Names, v27\n",
       "    keywords_vocabulary:        GCMD Science Keywords, Version 8.0.0.0.0\n",
       "    keywords:                   EARTH SCIENCE > ATMOSPHERE > PRECIPITATION > ...\n",
       "    history:                    Data were downloaded by CSIRO in ASCII format...\n",
       "    source:                     The meteorological data used in this study ar...\n",
       "    references:                 http://www.bom.gov.au/climate/maps, http://ww...\n",
       "    geospatial_lat_min:         -44.0\n",
       "    geospatial_lat_max:         -10.0\n",
       "    geospatial_lat_units:       degrees_north\n",
       "    geospatial_lat_resolution:  0.05 degrees\n",
       "    geospatial_lon_min:         112.0\n",
       "    geospatial_lon_max:         154.0\n",
       "    geospatial_lon_units:       degrees_east\n",
       "    geospatial_lon_resolution:  0.05 degrees\n",
       "    time_coverage_start:        1940-05-01\n",
       "    time_coverage_end:          1940-05-31\n",
       "    time_coverage_duration:     P1M\n",
       "    time_coverage_resolution:   P1D"
      ]
     },
     "execution_count": 27,
     "metadata": {},
     "output_type": "execute_result"
    }
   ],
   "source": [
    "xs"
   ]
  },
  {
   "cell_type": "code",
   "execution_count": 28,
   "metadata": {
    "collapsed": true
   },
   "outputs": [],
   "source": [
    "dat = xs.to_array()\n",
    "# array with the following dims: [var, month, lon, lat, nv]"
   ]
  },
  {
   "cell_type": "code",
   "execution_count": 33,
   "metadata": {
    "collapsed": true
   },
   "outputs": [],
   "source": [
    "## generate this\n",
    "\n",
    "#a = width of a pixel\n",
    "#b = row rotation (typically zero)\n",
    "#c = x-coordinate of the upper-left corner of the upper-left pixel\n",
    "#d = column rotation (typically zero)\n",
    "#e = height of a pixel (typically negative)\n",
    "#f = y-coordinate of the of the upper-left corner of the upper-left pixel\n"
   ]
  },
  {
   "cell_type": "code",
   "execution_count": 61,
   "metadata": {
    "collapsed": true
   },
   "outputs": [],
   "source": [
    "def affineFromXarray(x):\n",
    "    a = float(x.geospatial_lon_resolution.split(' ')[0])\n",
    "    b = 0\n",
    "    c = x.geospatial_lon_min\n",
    "    d = 0\n",
    "    e = -float(x.geospatial_lat_resolution.split(' ')[0])\n",
    "    f = x.geospatial_lat_max\n",
    "\n",
    "c = c-(a/2)\n",
    "f = f-(e/2)"
   ]
  },
  {
   "cell_type": "code",
   "execution_count": 62,
   "metadata": {
    "collapsed": true
   },
   "outputs": [],
   "source": [
    "from affine import Affine"
   ]
  },
  {
   "cell_type": "code",
   "execution_count": 63,
   "metadata": {},
   "outputs": [
    {
     "data": {
      "text/plain": [
       "Affine(0.05, 0.0, 111.975,\n",
       "       0.0, -0.05, -9.975)"
      ]
     },
     "execution_count": 63,
     "metadata": {},
     "output_type": "execute_result"
    }
   ],
   "source": [
    "Affine(a, b, c, d, e, f)"
   ]
  },
  {
   "cell_type": "code",
   "execution_count": 64,
   "metadata": {},
   "outputs": [
    {
     "data": {
      "text/plain": [
       "Affine(0.05, 0.0, 111.975,\n",
       "       0.0, -0.05, -9.974999999999994)"
      ]
     },
     "execution_count": 64,
     "metadata": {},
     "output_type": "execute_result"
    }
   ],
   "source": [
    "x.affine"
   ]
  },
  {
   "cell_type": "code",
   "execution_count": 54,
   "metadata": {},
   "outputs": [
    {
     "data": {
      "text/plain": [
       "0.025"
      ]
     },
     "execution_count": 54,
     "metadata": {},
     "output_type": "execute_result"
    }
   ],
   "source": []
  },
  {
   "cell_type": "code",
   "execution_count": 145,
   "metadata": {},
   "outputs": [
    {
     "data": {
      "image/png": "[encoded data removed]",
      "text/plain": [
       "<matplotlib.figure.Figure at 0x2aaafed046d8>"
      ]
     },
     "metadata": {},
     "output_type": "display_data"
    },
    {
     "data": {
      "image/png": "[encoded data removed]",
      "text/plain": [
       "<matplotlib.figure.Figure at 0x2aaafcb942e8>"
      ]
     },
     "metadata": {},
     "output_type": "display_data"
    },
    {
     "data": {
      "image/png": "[encoded data removed]",
      "text/plain": [
       "<matplotlib.figure.Figure at 0x2aaafcc38c18>"
      ]
     },
     "metadata": {},
     "output_type": "display_data"
    },
    {
     "data": {
      "image/png": "[encoded data removed]",
      "text/plain": [
       "<matplotlib.figure.Figure at 0x2aaafff4d278>"
      ]
     },
     "metadata": {},
     "output_type": "display_data"
    },
    {
     "data": {
      "image/png": "[encoded data removed]",
      "text/plain": [
       "<matplotlib.figure.Figure at 0x2aaafebbb128>"
      ]
     },
     "metadata": {},
     "output_type": "display_data"
    }
   ],
   "source": [
    "for i in range(5):\n",
    "    plt.figure()\n",
    "    plt.imshow(dat[i, 0, :, :, 0])\n",
    "    plt.show()"
   ]
  },
  {
   "cell_type": "code",
   "execution_count": 140,
   "metadata": {},
   "outputs": [
    {
     "data": {
      "text/plain": [
       "<xarray.DataArray (variable: 5, time: 31, latitude: 681, longitude: 841, nv: 2)>\n",
       "array([[[[[  0.   ,   0.   ],\n",
       "          ...,\n",
       "          [  2.5  ,   2.5  ]],\n",
       "\n",
       "         ...,\n",
       "\n",
       "         [[  0.   ,   0.   ],\n",
       "          ...,\n",
       "          [  0.   ,   0.   ]]],\n",
       "\n",
       "\n",
       "        ...,\n",
       "\n",
       "\n",
       "        [[[  0.   ,   0.   ],\n",
       "          ...,\n",
       "          [  0.6  ,   0.6  ]],\n",
       "\n",
       "         ...,\n",
       "\n",
       "         [[  0.   ,   0.   ],\n",
       "          ...,\n",
       "          [  0.   ,   0.   ]]]],\n",
       "\n",
       "\n",
       "\n",
       "       ...,\n",
       "\n",
       "\n",
       "\n",
       "       [[[[111.975, 112.025],\n",
       "          ...,\n",
       "          [153.975, 154.025]],\n",
       "\n",
       "         ...,\n",
       "\n",
       "         [[111.975, 112.025],\n",
       "          ...,\n",
       "          [153.975, 154.025]]],\n",
       "\n",
       "\n",
       "        ...,\n",
       "\n",
       "\n",
       "        [[[111.975, 112.025],\n",
       "          ...,\n",
       "          [153.975, 154.025]],\n",
       "\n",
       "         ...,\n",
       "\n",
       "         [[111.975, 112.025],\n",
       "          ...,\n",
       "          [153.975, 154.025]]]]])\n",
       "Coordinates:\n",
       "  * time       (time) datetime64[ns] 1940-05-01 1940-05-02 1940-05-03 ...\n",
       "  * latitude   (latitude) float64 -10.0 -10.05 -10.1 -10.15 -10.2 -10.25 ...\n",
       "  * longitude  (longitude) float64 112.0 112.0 112.1 112.2 112.2 112.2 112.3 ...\n",
       "  * variable   (variable) <U11 'rain_day' 'crs' 'time_bounds' 'lat_bounds' ...\n",
       "Dimensions without coordinates: nv\n",
       "Attributes:\n",
       "    Conventions:                CF-1.6\n",
       "    title:                      Australian Gridded Climate Data\n",
       "    summary:                    The AGDC is a high-quality set of historical ...\n",
       "    license:                    Copyright for any data supplied by the Bureau...\n",
       "    date_created:               2014-10-26T15:44:02\n",
       "    creator_name:               NCC Information Officer\n",
       "    creator_email:              none\n",
       "    institution:                Bureau of Meteorology (BoM), 700 Collins St, ...\n",
       "    creator_url:                http://www.bom.gov.au\n",
       "    publisher_name:             CSIRO Australian Water Availability Project (...\n",
       "    publisher_email:            data@auscover.org.au\n",
       "    publisher_url:              http://www.csiro.au/awap\n",
       "    standard_name_vocabulary:   CF Standard Names, v27\n",
       "    keywords_vocabulary:        GCMD Science Keywords, Version 8.0.0.0.0\n",
       "    keywords:                   EARTH SCIENCE > ATMOSPHERE > PRECIPITATION > ...\n",
       "    history:                    Data were downloaded by CSIRO in ASCII format...\n",
       "    source:                     The meteorological data used in this study ar...\n",
       "    references:                 http://www.bom.gov.au/climate/maps, http://ww...\n",
       "    geospatial_lat_min:         -44.0\n",
       "    geospatial_lat_max:         -10.0\n",
       "    geospatial_lat_units:       degrees_north\n",
       "    geospatial_lat_resolution:  0.05 degrees\n",
       "    geospatial_lon_min:         112.0\n",
       "    geospatial_lon_max:         154.0\n",
       "    geospatial_lon_units:       degrees_east\n",
       "    geospatial_lon_resolution:  0.05 degrees\n",
       "    time_coverage_start:        1940-05-01\n",
       "    time_coverage_end:          1940-05-31\n",
       "    time_coverage_duration:     P1M\n",
       "    time_coverage_resolution:   P1D"
      ]
     },
     "execution_count": 140,
     "metadata": {},
     "output_type": "execute_result"
    }
   ],
   "source": [
    "dat"
   ]
  },
  {
   "cell_type": "code",
   "execution_count": 90,
   "metadata": {
    "collapsed": true
   },
   "outputs": [],
   "source": [
    "d = np.ma.array(d, mask = (d==0))"
   ]
  },
  {
   "cell_type": "code",
   "execution_count": 114,
   "metadata": {},
   "outputs": [
    {
     "data": {
      "text/plain": [
       "<matplotlib.image.AxesImage at 0x2aaafcc13748>"
      ]
     },
     "execution_count": 114,
     "metadata": {},
     "output_type": "execute_result"
    },
    {
     "data": {
      "image/png": "[encoded data removed]",
      "text/plain": [
       "<matplotlib.figure.Figure at 0x2aaafcb16550>"
      ]
     },
     "metadata": {},
     "output_type": "display_data"
    }
   ],
   "source": [
    "plt.imshow(d.array)"
   ]
  },
  {
   "cell_type": "markdown",
   "metadata": {
    "collapsed": true
   },
   "source": [
    "** From local as flts **"
   ]
  },
  {
   "cell_type": "code",
   "execution_count": 105,
   "metadata": {},
   "outputs": [
    {
     "data": {
      "text/plain": [
       "<module 'maclab.maclab.spatial' from '/home/war42q/maclab/maclab/spatial.py'>"
      ]
     },
     "execution_count": 105,
     "metadata": {},
     "output_type": "execute_result"
    }
   ],
   "source": [
    "import importlib\n",
    "importlib.reload(sp)"
   ]
  },
  {
   "cell_type": "code",
   "execution_count": 46,
   "metadata": {
    "collapsed": true
   },
   "outputs": [],
   "source": [
    "flt_dirs = admin.listdirs('%s/SOURCE/clim/awap_daily/tmax' %RECA)\n",
    "flts = [admin.listfiles(d, '.flt') for d in flt_dirs]"
   ]
  },
  {
   "cell_type": "code",
   "execution_count": 47,
   "metadata": {
    "collapsed": true
   },
   "outputs": [],
   "source": [
    "flts = sum(flts, [])"
   ]
  },
  {
   "cell_type": "code",
   "execution_count": 48,
   "metadata": {
    "collapsed": true
   },
   "outputs": [],
   "source": [
    "flts.sort(key = tokenize)"
   ]
  },
  {
   "cell_type": "code",
   "execution_count": 49,
   "metadata": {},
   "outputs": [
    {
     "data": {
      "text/plain": [
       "'/OSM/CBR/LW_BACKCAST/work/SOURCE/clim/awap_daily/tmax/1900/bom-tmax-day-19000208-19000208.flt'"
      ]
     },
     "execution_count": 49,
     "metadata": {},
     "output_type": "execute_result"
    }
   ],
   "source": [
    "flts[0]"
   ]
  },
  {
   "cell_type": "code",
   "execution_count": 50,
   "metadata": {
    "collapsed": true
   },
   "outputs": [],
   "source": [
    "x = sp.Raster(flts[0])"
   ]
  },
  {
   "cell_type": "code",
   "execution_count": 51,
   "metadata": {},
   "outputs": [
    {
     "data": {
      "text/plain": [
       "Affine(0.05, 0.0, 111.975,\n",
       "       0.0, -0.05, -9.974999999999994)"
      ]
     },
     "execution_count": 51,
     "metadata": {},
     "output_type": "execute_result"
    }
   ],
   "source": [
    "x.affine"
   ]
  },
  {
   "cell_type": "code",
   "execution_count": null,
   "metadata": {
    "collapsed": true
   },
   "outputs": [],
   "source": []
  },
  {
   "cell_type": "markdown",
   "metadata": {},
   "source": [
    "**Wrong turns**"
   ]
  },
  {
   "cell_type": "code",
   "execution_count": null,
   "metadata": {
    "collapsed": true
   },
   "outputs": [],
   "source": [
    "%%writefile /OSM/CBR/LW_BACKCAST/work/code/reca/awap_daily_dwnld.sh\n",
    "#!/usr/bin/env bash\n",
    "\n",
    "if [[ $# -eq 0 ]] ; then\n",
    "    echo \"Usage: $0 param1\"\n",
    "    echo \"* param1: climate variable which matches options here: http://rs-data1-mel.csiro.au/thredds/catalog/bawap/\"\n",
    "    echo \"* returns: downloaded files to a dir named and created by param1 in the current dir\"\n",
    "    exit 0\n",
    "fi\n",
    "\n",
    "var=$1\n",
    "\n",
    "cd /OSM/CBR/LW_BACKCAST/work/SOURCE/clim/awap_daily\n",
    "\n",
    "if [ ! -d \"$var\" ]; then\n",
    "  mkdir $var\n",
    "fi\n",
    "\n",
    "cd $var\n",
    "\n",
    "for year in $(seq 1900 2018); do \n",
    "    URL=http://rs-data1-mel.csiro.au/thredds/catalog/bawap/$var/day/$year/catalog.html\n",
    "    wget -r -nd -nc -np -e robots=off -A.nc --no-check-certificate $URL\n",
    "done"
   ]
  },
  {
   "cell_type": "code",
   "execution_count": null,
   "metadata": {
    "collapsed": true
   },
   "outputs": [],
   "source": [
    "!chmod +x /OSM/CBR/LW_BACKCAST/work/code/reca/awap_daily_dwnld.sh"
   ]
  },
  {
   "cell_type": "code",
   "execution_count": null,
   "metadata": {
    "collapsed": true
   },
   "outputs": [],
   "source": []
  },
  {
   "cell_type": "code",
   "execution_count": null,
   "metadata": {
    "collapsed": true
   },
   "outputs": [],
   "source": [
    "# variable selection:\n",
    "#https://github.com/BCCVL/org.bccvl.compute/blob/develop/src/org/bccvl/compute/rscripts/eval.R\n",
    "#https://support.bccvl.org.au/support/solutions/articles/6000176035-variable-importance"
   ]
  },
  {
   "cell_type": "code",
   "execution_count": null,
   "metadata": {
    "collapsed": true
   },
   "outputs": [],
   "source": []
  },
  {
   "cell_type": "code",
   "execution_count": null,
   "metadata": {
    "collapsed": true
   },
   "outputs": [],
   "source": []
  },
  {
   "cell_type": "code",
   "execution_count": 694,
   "metadata": {
    "collapsed": true
   },
   "outputs": [],
   "source": [
    "nc = '/OSM/CBR/LW_GPAAG/work/LU/G/SOURCE/LUH2/PREDICTS_age_of_secd/secd-historical.nc'"
   ]
  },
  {
   "cell_type": "code",
   "execution_count": 695,
   "metadata": {
    "collapsed": true
   },
   "outputs": [],
   "source": [
    "import xarray"
   ]
  },
  {
   "cell_type": "code",
   "execution_count": 697,
   "metadata": {
    "collapsed": true
   },
   "outputs": [],
   "source": [
    "dat = xarray.open_dataset(nc, decode_times=False)"
   ]
  },
  {
   "cell_type": "code",
   "execution_count": 703,
   "metadata": {},
   "outputs": [
    {
     "data": {
      "text/plain": [
       "<xarray.Dataset>\n",
       "Dimensions:  (bins: 52, lat: 720, lon: 1440, time: 1166)\n",
       "Coordinates:\n",
       "  * time     (time) float64 0.0 1.0 2.0 3.0 4.0 5.0 6.0 7.0 8.0 9.0 10.0 ...\n",
       "  * lat      (lat) float32 89.875 89.625 89.375 89.125 88.875 88.625 88.375 ...\n",
       "  * lon      (lon) float32 -179.875 -179.625 -179.375 -179.125 -178.875 ...\n",
       "Dimensions without coordinates: bins\n",
       "Data variables:\n",
       "    crs      |S1 b''\n",
       "    secdyf   (time, lat, lon) float64 nan nan nan nan nan nan nan nan nan ...\n",
       "    secdif   (time, lat, lon) float64 nan nan nan nan nan nan nan nan nan ...\n",
       "    secdmf   (time, lat, lon) float64 nan nan nan nan nan nan nan nan nan ...\n",
       "    secdyn   (time, lat, lon) float64 nan nan nan nan nan nan nan nan nan ...\n",
       "    secdin   (time, lat, lon) float64 nan nan nan nan nan nan nan nan nan ...\n",
       "    secdmn   (time, lat, lon) float64 nan nan nan nan nan nan nan nan nan ...\n",
       "    binsf    (bins, lat, lon) float64 nan nan nan nan nan nan nan nan nan ...\n",
       "    binsn    (bins, lat, lon) float64 nan nan nan nan nan nan nan nan nan ...\n",
       "Attributes:\n",
       "    Conventions:  CF-1.5\n",
       "    GDAL:         GDAL 1.11.3, released 2015/09/16\n",
       "    history:      Created at Mon Dec  4 15:28:51 2017\n",
       "    source:       secd-dist.py"
      ]
     },
     "execution_count": 703,
     "metadata": {},
     "output_type": "execute_result"
    }
   ],
   "source": [
    "dat"
   ]
  },
  {
   "cell_type": "code",
   "execution_count": 707,
   "metadata": {
    "collapsed": true
   },
   "outputs": [],
   "source": [
    "time = dat['time']"
   ]
  },
  {
   "cell_type": "code",
   "execution_count": 709,
   "metadata": {
    "collapsed": true
   },
   "outputs": [],
   "source": [
    "dat_now = dat.isel(time = 1165)"
   ]
  },
  {
   "cell_type": "code",
   "execution_count": 710,
   "metadata": {},
   "outputs": [
    {
     "data": {
      "text/plain": [
       "<xarray.Dataset>\n",
       "Dimensions:  (bins: 52, lat: 720, lon: 1440)\n",
       "Coordinates:\n",
       "    time     float64 1.165e+03\n",
       "  * lat      (lat) float32 89.875 89.625 89.375 89.125 88.875 88.625 88.375 ...\n",
       "  * lon      (lon) float32 -179.875 -179.625 -179.375 -179.125 -178.875 ...\n",
       "Dimensions without coordinates: bins\n",
       "Data variables:\n",
       "    crs      |S1 b''\n",
       "    secdyf   (lat, lon) float64 nan nan nan nan nan nan nan nan nan nan nan ...\n",
       "    secdif   (lat, lon) float64 nan nan nan nan nan nan nan nan nan nan nan ...\n",
       "    secdmf   (lat, lon) float64 nan nan nan nan nan nan nan nan nan nan nan ...\n",
       "    secdyn   (lat, lon) float64 nan nan nan nan nan nan nan nan nan nan nan ...\n",
       "    secdin   (lat, lon) float64 nan nan nan nan nan nan nan nan nan nan nan ...\n",
       "    secdmn   (lat, lon) float64 nan nan nan nan nan nan nan nan nan nan nan ...\n",
       "    binsf    (bins, lat, lon) float64 nan nan nan nan nan nan nan nan nan ...\n",
       "    binsn    (bins, lat, lon) float64 nan nan nan nan nan nan nan nan nan ...\n",
       "Attributes:\n",
       "    Conventions:  CF-1.5\n",
       "    GDAL:         GDAL 1.11.3, released 2015/09/16\n",
       "    history:      Created at Mon Dec  4 15:28:51 2017\n",
       "    source:       secd-dist.py"
      ]
     },
     "execution_count": 710,
     "metadata": {},
     "output_type": "execute_result"
    }
   ],
   "source": [
    "dat_now"
   ]
  },
  {
   "cell_type": "code",
   "execution_count": 729,
   "metadata": {
    "collapsed": true
   },
   "outputs": [],
   "source": [
    "from netCDF4 import Dataset"
   ]
  },
  {
   "cell_type": "code",
   "execution_count": 730,
   "metadata": {
    "collapsed": true
   },
   "outputs": [],
   "source": [
    "root = Dataset(nc,'r',format='NETCDF4')"
   ]
  },
  {
   "cell_type": "code",
   "execution_count": 778,
   "metadata": {
    "collapsed": true
   },
   "outputs": [],
   "source": [
    "variables = dict.fromkeys(['secdyf', 'secdif', 'secdmf', 'secdyn', 'secdin', 'secdmn'])"
   ]
  },
  {
   "cell_type": "code",
   "execution_count": 782,
   "metadata": {
    "collapsed": true
   },
   "outputs": [],
   "source": [
    "for v in variables.keys():\n",
    "    variables[v] = root.variables[v][-2, :, :]"
   ]
  },
  {
   "cell_type": "code",
   "execution_count": 791,
   "metadata": {
    "collapsed": true
   },
   "outputs": [],
   "source": [
    "from affine import Affine\n",
    "from rasterio.crs import CRS"
   ]
  },
  {
   "cell_type": "code",
   "execution_count": 793,
   "metadata": {
    "collapsed": true
   },
   "outputs": [],
   "source": [
    "#x res, row rotation, xmin, column rotation, y res, ymax\n",
    "trans = Affine(0.25, 0, -180, 0, 0.25, 90)\n",
    "crs = CRS(init='epsg:4326')"
   ]
  },
  {
   "cell_type": "code",
   "execution_count": 801,
   "metadata": {},
   "outputs": [
    {
     "data": {
      "text/plain": [
       "{'count': 1,\n",
       " 'crs': CRS({'init': 'epsg:4326'}),\n",
       " 'driver': 'EHdr',\n",
       " 'dtype': 'float32',\n",
       " 'height': 720,\n",
       " 'nodata': -9999,\n",
       " 'transform': Affine(0.25, 0.0, -180.0,\n",
       "       0.0, 0.25, 90.0),\n",
       " 'width': 1440}"
      ]
     },
     "execution_count": 801,
     "metadata": {},
     "output_type": "execute_result"
    }
   ],
   "source": [
    "meta = {'count': 1, 'crs':crs, 'height':720, 'width':1440, \n",
    "        'driver':'EHdr', 'nodata': -9999, 'transform':trans, \n",
    "        'dtype':'float32'}\n",
    "meta"
   ]
  },
  {
   "cell_type": "code",
   "execution_count": 802,
   "metadata": {
    "collapsed": true
   },
   "outputs": [],
   "source": [
    "dst = '/OSM/CBR/LW_GPAAG/work/LU/G/SOURCE/LUH2/PREDICTS_age_of_secd/secd-historical-presentday-flts'"
   ]
  },
  {
   "cell_type": "code",
   "execution_count": 806,
   "metadata": {},
   "outputs": [
    {
     "name": "stdout",
     "output_type": "stream",
     "text": [
      "secdyf done\n",
      "secdif done\n",
      "secdmf done\n",
      "secdyn done\n",
      "secdin done\n",
      "secdmn done\n"
     ]
    }
   ],
   "source": [
    "for v in variables.keys():\n",
    "    this_dst = '{0}/{1}.flt'.format(dst, v)\n",
    "    this_dat = np.array(variables[v].astype('float32'))\n",
    "    sp.write_flt(this_dat, meta, this_dst)\n",
    "    print('{0} done'.format(v))"
   ]
  },
  {
   "cell_type": "code",
   "execution_count": 809,
   "metadata": {},
   "outputs": [
    {
     "name": "stdout",
     "output_type": "stream",
     "text": [
      "Overwriting /OSM/CBR/LW_GPAAG/work/LU/G/SOURCE/LUH2/PREDICTS_age_of_secd/secd-historical-presentday-flts/README.txt\n"
     ]
    }
   ],
   "source": [
    "%%writefile /OSM/CBR/LW_GPAAG/work/LU/G/SOURCE/LUH2/PREDICTS_age_of_secd/secd-historical-presentday-flts/README.txt\n",
    "\n",
    "This directory contains .flt files created from:\n",
    "    /OSM/CBR/LW_GPAAG/work/LU/G/SOURCE/LUH2/PREDICTS_age_of_secd/secd-historical-presentday-flts/secd-historical.nc  \n",
    "    \n",
    "Files are for the last time dimension (present day) in secd-historical.nc, and for each of the secondary forest / \n",
    "non-forest charaterisations. \n",
    "\n",
    "Created by Chris Ware on 21/08/2018"
   ]
  },
  {
   "cell_type": "code",
   "execution_count": 785,
   "metadata": {},
   "outputs": [
    {
     "data": {
      "text/plain": [
       "<matplotlib.image.AxesImage at 0x2aaafff7fb38>"
      ]
     },
     "execution_count": 785,
     "metadata": {},
     "output_type": "execute_result"
    },
    {
     "data": {
      "image/png": "[encoded data removed]",
      "text/plain": [
       "<matplotlib.figure.Figure at 0x2aaafff0ca20>"
      ]
     },
     "metadata": {},
     "output_type": "display_data"
    }
   ],
   "source": [
    "plt.imshow(variables['secdyf'])"
   ]
  },
  {
   "cell_type": "code",
   "execution_count": null,
   "metadata": {
    "collapsed": true
   },
   "outputs": [],
   "source": []
  },
  {
   "cell_type": "code",
   "execution_count": 771,
   "metadata": {},
   "outputs": [
    {
     "data": {
      "text/plain": [
       "<matplotlib.image.AxesImage at 0x2aaaff0bf438>"
      ]
     },
     "execution_count": 771,
     "metadata": {},
     "output_type": "execute_result"
    },
    {
     "data": {
      "image/png": "[encoded data removed]",
      "text/plain": [
       "<matplotlib.figure.Figure at 0x2aaafd635978>"
      ]
     },
     "metadata": {},
     "output_type": "display_data"
    }
   ],
   "source": [
    "plt.imshow(secdyf[-2, :, :])"
   ]
  },
  {
   "cell_type": "code",
   "execution_count": 772,
   "metadata": {
    "collapsed": true
   },
   "outputs": [],
   "source": [
    "from homebaked import spatial as sp"
   ]
  },
  {
   "cell_type": "code",
   "execution_count": 773,
   "metadata": {},
   "outputs": [
    {
     "data": {
      "text/plain": [
       "<function homebaked.spatial.write_flt>"
      ]
     },
     "execution_count": 773,
     "metadata": {},
     "output_type": "execute_result"
    }
   ],
   "source": [
    "sp.write_flt"
   ]
  },
  {
   "cell_type": "code",
   "execution_count": null,
   "metadata": {
    "collapsed": true
   },
   "outputs": [],
   "source": []
  },
  {
   "cell_type": "code",
   "execution_count": null,
   "metadata": {
    "collapsed": true
   },
   "outputs": [],
   "source": []
  },
  {
   "cell_type": "code",
   "execution_count": 767,
   "metadata": {},
   "outputs": [
    {
     "name": "stdout",
     "output_type": "stream",
     "text": [
      "0.11092874285891104\n",
      "0.001714462309724065\n",
      "0.0013329323244631371\n",
      "0.0015337936295545594\n",
      "0.0010831034199778613\n",
      "0.0018895267538819095\n",
      "0.0013420179905461556\n",
      "0.0009327201360336351\n",
      "0.000911742082356893\n",
      "0.0010524407724300058\n",
      "0.0009874919288047452\n",
      "0.0016601369388872422\n",
      "0.0009328639070320387\n",
      "0.0008994077582951702\n",
      "0.0010297051241997097\n",
      "0.0008779920175395443\n",
      "0.0008013174568047519\n",
      "0.0007604957002678996\n",
      "0.0007691257374068806\n",
      "0.0007266618280541089\n",
      "0.0007276682250429336\n",
      "0.0007052482119930408\n",
      "0.0007456358226086055\n",
      "0.0007825349208376202\n",
      "0.000844567267066695\n",
      "0.0008640599231704404\n",
      "0.0007952516899197268\n",
      "0.0007919973660888687\n",
      "0.0007891686894010672\n",
      "0.0007758810857144619\n",
      "0.000770925353697242\n",
      "0.0007653931212233696\n",
      "0.0007312936621898679\n",
      "0.00071395332167306\n",
      "0.0007233196835148663\n",
      "0.0007078245221828235\n",
      "0.0006920059351236661\n",
      "0.0006868965168667734\n",
      "0.0006836891723933575\n",
      "0.0006831402929659548\n",
      "0.0006702660604094063\n",
      "0.0006785287614670804\n",
      "0.0006779265285985625\n",
      "0.0006621308410251935\n",
      "0.0006631934243812104\n",
      "0.0006531183588658287\n",
      "0.0006479253692896671\n",
      "0.0006464973384697279\n",
      "0.0006429495707127358\n",
      "0.000633905926366525\n",
      "0.071813084920042\n",
      "0.1115830656835139\n"
     ]
    }
   ],
   "source": [
    "for i in range(binsf.shape[0]):\n",
    "    print(np.mean(binsf[i, :, :]))"
   ]
  },
  {
   "cell_type": "code",
   "execution_count": 762,
   "metadata": {
    "collapsed": true
   },
   "outputs": [],
   "source": [
    "secdyf_dat = secdyf[0, :, :]"
   ]
  },
  {
   "cell_type": "code",
   "execution_count": 763,
   "metadata": {},
   "outputs": [
    {
     "data": {
      "text/plain": [
       "<matplotlib.image.AxesImage at 0x2aaafd694518>"
      ]
     },
     "execution_count": 763,
     "metadata": {},
     "output_type": "execute_result"
    },
    {
     "data": {
      "image/png": "[encoded data removed]",
      "text/plain": [
       "<matplotlib.figure.Figure at 0x2aaafef89208>"
      ]
     },
     "metadata": {},
     "output_type": "display_data"
    }
   ],
   "source": [
    "plt.imshow(secdyf_dat)"
   ]
  },
  {
   "cell_type": "code",
   "execution_count": 724,
   "metadata": {
    "collapsed": true
   },
   "outputs": [],
   "source": [
    "secdmf = dat_now['secdmf']"
   ]
  },
  {
   "cell_type": "code",
   "execution_count": 714,
   "metadata": {
    "collapsed": true
   },
   "outputs": [],
   "source": [
    "from matplotlib import pyplot as plt\n",
    "%matplotlib inline"
   ]
  },
  {
   "cell_type": "code",
   "execution_count": 725,
   "metadata": {
    "collapsed": true
   },
   "outputs": [],
   "source": [
    "nn = np.array(secdyf)"
   ]
  },
  {
   "cell_type": "code",
   "execution_count": 726,
   "metadata": {},
   "outputs": [
    {
     "name": "stderr",
     "output_type": "stream",
     "text": [
      "/home/war42q/.local/lib/python3.6/site-packages/numpy/core/fromnumeric.py:83: RuntimeWarning: invalid value encountered in reduce\n",
      "  return ufunc.reduce(obj, axis, dtype, out, **passkwargs)\n"
     ]
    },
    {
     "data": {
      "text/plain": [
       "nan"
      ]
     },
     "execution_count": 726,
     "metadata": {},
     "output_type": "execute_result"
    }
   ],
   "source": [
    "np.max(nn)"
   ]
  },
  {
   "cell_type": "code",
   "execution_count": 715,
   "metadata": {},
   "outputs": [
    {
     "data": {
      "text/plain": [
       "<matplotlib.image.AxesImage at 0x2aaafe415320>"
      ]
     },
     "execution_count": 715,
     "metadata": {},
     "output_type": "execute_result"
    },
    {
     "name": "stderr",
     "output_type": "stream",
     "text": [
      "/apps/python/3.6.1/lib/python3.6/site-packages/matplotlib-2.0.2-py3.6-linux-x86_64.egg/matplotlib/colors.py:823: UserWarning: Warning: converting a masked element to nan.\n",
      "  dtype = np.min_scalar_type(value)\n",
      "/home/war42q/.local/lib/python3.6/site-packages/numpy/ma/core.py:2785: UserWarning: Warning: converting a masked element to nan.\n",
      "  order=order, subok=True, ndmin=ndmin)\n"
     ]
    },
    {
     "data": {
      "image/png": "[encoded data removed]",
      "text/plain": [
       "<matplotlib.figure.Figure at 0x2aaafe442908>"
      ]
     },
     "metadata": {},
     "output_type": "display_data"
    }
   ],
   "source": [
    "plt.imshow(secdyf)"
   ]
  },
  {
   "cell_type": "code",
   "execution_count": null,
   "metadata": {
    "collapsed": true
   },
   "outputs": [],
   "source": []
  },
  {
   "cell_type": "code",
   "execution_count": null,
   "metadata": {
    "collapsed": true
   },
   "outputs": [],
   "source": []
  },
  {
   "cell_type": "code",
   "execution_count": null,
   "metadata": {
    "collapsed": true
   },
   "outputs": [],
   "source": []
  },
  {
   "cell_type": "code",
   "execution_count": 705,
   "metadata": {},
   "outputs": [
    {
     "ename": "MemoryError",
     "evalue": "",
     "output_type": "error",
     "traceback": [
      "\u001b[0;31m---------------------------------------------------------------------------\u001b[0m",
      "\u001b[0;31mMemoryError\u001b[0m                               Traceback (most recent call last)",
      "\u001b[0;32m<ipython-input-705-b91aeb73005c>\u001b[0m in \u001b[0;36m<module>\u001b[0;34m()\u001b[0m\n\u001b[0;32m----> 1\u001b[0;31m \u001b[0mdat2dat\u001b[0m \u001b[0;34m=\u001b[0m \u001b[0mdat\u001b[0m\u001b[0;34m.\u001b[0m\u001b[0mto_array\u001b[0m\u001b[0;34m(\u001b[0m\u001b[0;34m)\u001b[0m\u001b[0;34m\u001b[0m\u001b[0m\n\u001b[0m",
      "\u001b[0;32m/apps/python/3.6.1/lib/python3.6/site-packages/xarray/core/dataset.py\u001b[0m in \u001b[0;36mto_array\u001b[0;34m(self, dim, name)\u001b[0m\n\u001b[1;32m   2317\u001b[0m         \u001b[0mdata_vars\u001b[0m \u001b[0;34m=\u001b[0m \u001b[0;34m[\u001b[0m\u001b[0mself\u001b[0m\u001b[0;34m.\u001b[0m\u001b[0mvariables\u001b[0m\u001b[0;34m[\u001b[0m\u001b[0mk\u001b[0m\u001b[0;34m]\u001b[0m \u001b[0;32mfor\u001b[0m \u001b[0mk\u001b[0m \u001b[0;32min\u001b[0m \u001b[0mself\u001b[0m\u001b[0;34m.\u001b[0m\u001b[0mdata_vars\u001b[0m\u001b[0;34m]\u001b[0m\u001b[0;34m\u001b[0m\u001b[0m\n\u001b[1;32m   2318\u001b[0m         \u001b[0mbroadcast_vars\u001b[0m \u001b[0;34m=\u001b[0m \u001b[0mbroadcast_variables\u001b[0m\u001b[0;34m(\u001b[0m\u001b[0;34m*\u001b[0m\u001b[0mdata_vars\u001b[0m\u001b[0;34m)\u001b[0m\u001b[0;34m\u001b[0m\u001b[0m\n\u001b[0;32m-> 2319\u001b[0;31m         \u001b[0mdata\u001b[0m \u001b[0;34m=\u001b[0m \u001b[0mduck_array_ops\u001b[0m\u001b[0;34m.\u001b[0m\u001b[0mstack\u001b[0m\u001b[0;34m(\u001b[0m\u001b[0;34m[\u001b[0m\u001b[0mb\u001b[0m\u001b[0;34m.\u001b[0m\u001b[0mdata\u001b[0m \u001b[0;32mfor\u001b[0m \u001b[0mb\u001b[0m \u001b[0;32min\u001b[0m \u001b[0mbroadcast_vars\u001b[0m\u001b[0;34m]\u001b[0m\u001b[0;34m,\u001b[0m \u001b[0maxis\u001b[0m\u001b[0;34m=\u001b[0m\u001b[0;36m0\u001b[0m\u001b[0;34m)\u001b[0m\u001b[0;34m\u001b[0m\u001b[0m\n\u001b[0m\u001b[1;32m   2320\u001b[0m \u001b[0;34m\u001b[0m\u001b[0m\n\u001b[1;32m   2321\u001b[0m         \u001b[0mcoords\u001b[0m \u001b[0;34m=\u001b[0m \u001b[0mdict\u001b[0m\u001b[0;34m(\u001b[0m\u001b[0mself\u001b[0m\u001b[0;34m.\u001b[0m\u001b[0mcoords\u001b[0m\u001b[0;34m)\u001b[0m\u001b[0;34m\u001b[0m\u001b[0m\n",
      "\u001b[0;32m/apps/python/3.6.1/lib/python3.6/site-packages/xarray/core/duck_array_ops.py\u001b[0m in \u001b[0;36mf\u001b[0;34m(*args, **kwargs)\u001b[0m\n\u001b[1;32m     46\u001b[0m             \u001b[0;32melse\u001b[0m\u001b[0;34m:\u001b[0m\u001b[0;34m\u001b[0m\u001b[0m\n\u001b[1;32m     47\u001b[0m                 \u001b[0mmodule\u001b[0m \u001b[0;34m=\u001b[0m \u001b[0meager_module\u001b[0m\u001b[0;34m\u001b[0m\u001b[0m\n\u001b[0;32m---> 48\u001b[0;31m             \u001b[0;32mreturn\u001b[0m \u001b[0mgetattr\u001b[0m\u001b[0;34m(\u001b[0m\u001b[0mmodule\u001b[0m\u001b[0;34m,\u001b[0m \u001b[0mname\u001b[0m\u001b[0;34m)\u001b[0m\u001b[0;34m(\u001b[0m\u001b[0;34m*\u001b[0m\u001b[0margs\u001b[0m\u001b[0;34m,\u001b[0m \u001b[0;34m**\u001b[0m\u001b[0mkwargs\u001b[0m\u001b[0;34m)\u001b[0m\u001b[0;34m\u001b[0m\u001b[0m\n\u001b[0m\u001b[1;32m     49\u001b[0m     \u001b[0;32melse\u001b[0m\u001b[0;34m:\u001b[0m\u001b[0;34m\u001b[0m\u001b[0m\n\u001b[1;32m     50\u001b[0m         \u001b[0;32mdef\u001b[0m \u001b[0mf\u001b[0m\u001b[0;34m(\u001b[0m\u001b[0mdata\u001b[0m\u001b[0;34m,\u001b[0m \u001b[0;34m*\u001b[0m\u001b[0margs\u001b[0m\u001b[0;34m,\u001b[0m \u001b[0;34m**\u001b[0m\u001b[0mkwargs\u001b[0m\u001b[0;34m)\u001b[0m\u001b[0;34m:\u001b[0m\u001b[0;34m\u001b[0m\u001b[0m\n",
      "\u001b[0;32m~/.local/lib/python3.6/site-packages/numpy/core/shape_base.py\u001b[0m in \u001b[0;36mstack\u001b[0;34m(arrays, axis, out)\u001b[0m\n\u001b[1;32m    358\u001b[0m     \u001b[0msl\u001b[0m \u001b[0;34m=\u001b[0m \u001b[0;34m(\u001b[0m\u001b[0mslice\u001b[0m\u001b[0;34m(\u001b[0m\u001b[0;32mNone\u001b[0m\u001b[0;34m)\u001b[0m\u001b[0;34m,\u001b[0m\u001b[0;34m)\u001b[0m \u001b[0;34m*\u001b[0m \u001b[0maxis\u001b[0m \u001b[0;34m+\u001b[0m \u001b[0;34m(\u001b[0m\u001b[0m_nx\u001b[0m\u001b[0;34m.\u001b[0m\u001b[0mnewaxis\u001b[0m\u001b[0;34m,\u001b[0m\u001b[0;34m)\u001b[0m\u001b[0;34m\u001b[0m\u001b[0m\n\u001b[1;32m    359\u001b[0m     \u001b[0mexpanded_arrays\u001b[0m \u001b[0;34m=\u001b[0m \u001b[0;34m[\u001b[0m\u001b[0marr\u001b[0m\u001b[0;34m[\u001b[0m\u001b[0msl\u001b[0m\u001b[0;34m]\u001b[0m \u001b[0;32mfor\u001b[0m \u001b[0marr\u001b[0m \u001b[0;32min\u001b[0m \u001b[0marrays\u001b[0m\u001b[0;34m]\u001b[0m\u001b[0;34m\u001b[0m\u001b[0m\n\u001b[0;32m--> 360\u001b[0;31m     \u001b[0;32mreturn\u001b[0m \u001b[0m_nx\u001b[0m\u001b[0;34m.\u001b[0m\u001b[0mconcatenate\u001b[0m\u001b[0;34m(\u001b[0m\u001b[0mexpanded_arrays\u001b[0m\u001b[0;34m,\u001b[0m \u001b[0maxis\u001b[0m\u001b[0;34m=\u001b[0m\u001b[0maxis\u001b[0m\u001b[0;34m,\u001b[0m \u001b[0mout\u001b[0m\u001b[0;34m=\u001b[0m\u001b[0mout\u001b[0m\u001b[0;34m)\u001b[0m\u001b[0;34m\u001b[0m\u001b[0m\n\u001b[0m\u001b[1;32m    361\u001b[0m \u001b[0;34m\u001b[0m\u001b[0m\n\u001b[1;32m    362\u001b[0m \u001b[0;34m\u001b[0m\u001b[0m\n",
      "\u001b[0;31mMemoryError\u001b[0m: "
     ]
    }
   ],
   "source": [
    "dat['secdyf'] = dat.isel(x=slice(10, 1000)).load()"
   ]
  },
  {
   "cell_type": "code",
   "execution_count": 701,
   "metadata": {},
   "outputs": [
    {
     "data": {
      "text/plain": [
       "(512, 512)"
      ]
     },
     "execution_count": 701,
     "metadata": {},
     "output_type": "execute_result"
    }
   ],
   "source": []
  },
  {
   "cell_type": "code",
   "execution_count": null,
   "metadata": {
    "collapsed": true
   },
   "outputs": [],
   "source": []
  }
 ],
 "metadata": {
  "kernelspec": {
   "display_name": "Python 3.6.1",
   "language": "python",
   "name": "python-3.6.1"
  },
  "language_info": {
   "codemirror_mode": {
    "name": "ipython",
    "version": 3
   },
   "file_extension": ".py",
   "mimetype": "text/x-python",
   "name": "python",
   "nbconvert_exporter": "python",
   "pygments_lexer": "ipython3",
   "version": "3.6.1"
  }
 },
 "nbformat": 4,
 "nbformat_minor": 2
}
