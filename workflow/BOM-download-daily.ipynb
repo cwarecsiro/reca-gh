{
 "cells": [
  {
   "cell_type": "markdown",
   "metadata": {},
   "source": [
    "### BOM daily\n",
    "***\n",
    "#### Download and calculate extreme statistics using the BOM daily climate data"
   ]
  },
  {
   "cell_type": "markdown",
   "metadata": {},
   "source": [
    "The data are located in three sources:  \n",
    "    * http://rs-data1-mel.csiro.au/thredds/catalog/bawap/catalog.html as netCDF  \n",
    "    * \\\\osm-06-cdc.it.csiro.au\\OSM_CBR_LW_Bawapsilo_home\\bawap | /OSM/CBR/LW_Bawapsilo/home/bawap as both netCDF and flt\n",
    "    * \\\\wron\\TimeSeries\\Climate\\bawap\n",
    "    \n",
    "I can't access the wron, and the linux mount of bawap doesn't seem to mirror the windows dir. Probably easier to work with netCDF, so I'll download it from the thredds server. "
   ]
  },
  {
   "cell_type": "code",
   "execution_count": 39,
   "metadata": {
    "collapsed": true
   },
   "outputs": [],
   "source": [
    "%run startup.py"
   ]
  },
  {
   "cell_type": "code",
   "execution_count": 898,
   "metadata": {
    "collapsed": true
   },
   "outputs": [],
   "source": [
    "from maclab.maclab import spatial as sp\n",
    "from maclab.maclab import utils as ut\n",
    "from maclab.maclab import slurm as sl\n",
    "import thredds_crawler\n",
    "from thredds_crawler.crawl import Crawl\n",
    "import importlib\n",
    "import pandas as pd"
   ]
  },
  {
   "cell_type": "code",
   "execution_count": 3,
   "metadata": {
    "collapsed": true
   },
   "outputs": [],
   "source": [
    "# working locationsa\n",
    "RECA = '/OSM/CBR/LW_BACKCAST/work'\n",
    "src = '%s/SOURCE/clim' %RECA\n",
    "#os.mkdir(src)"
   ]
  },
  {
   "cell_type": "markdown",
   "metadata": {},
   "source": [
    "** Download netCDF files from thredds **"
   ]
  },
  {
   "cell_type": "code",
   "execution_count": 638,
   "metadata": {},
   "outputs": [
    {
     "name": "stdout",
     "output_type": "stream",
     "text": [
      "Destination directory: /OSM/CBR/LW_BACKCAST/work/SOURCE/clim/awap_daily/rad\n"
     ]
    }
   ],
   "source": [
    "# available daily climate fields\n",
    "fields = ['rain', 'tmax', 'tmin']\n",
    "\n",
    "\"\"\"\n",
    "Note\n",
    "----\n",
    "'rad' is also available, but the time series only extends back to 1990 so is not downloaded\n",
    "\"\"\"\n",
    "\n",
    "for var in fields:\n",
    "    \n",
    "    # config\n",
    "    var_dir = '{0}/SOURCE/clim/awap_daily/{1}'.format(RECA, var)\n",
    "    if os.path.exists(var_dir) is not True:\n",
    "        os.mkdir(var_dir)\n",
    "    print('Destination directory: %s' %var_dir)\n",
    "    \n",
    "    # generate urls\n",
    "    c = Crawl('http://rs-data1-mel.csiro.au/thredds/catalog/bawap/%s/day/catalog.html' %var, debug = False)\n",
    "    datasets = [i.id for i in c.datasets]\n",
    "    server = 'http://rs-data1-mel.csiro.au/thredds/fileServer/'\n",
    "    urls = [server + i for i in datasets]\n",
    "    pd.DataFrame(urls).to_csv('{0}/{1}_urls.csv'.format(var_dir, var), index= False)\n",
    "    print('Found {0} urls to download for {1}'.format(len(urls), var))\n",
    "    var_dir = '{0}/nc'.format(var_dir)\n",
    "    if os.path.exists(var_dir) is not True:\n",
    "        os.mkdir(var_dir)\n",
    "    print('Destination directory: %s' %var_dir)a\n",
    "    \n",
    "    # download\n",
    "    for nc in urls:\n",
    "        io.downloadfile(nc, dst=var_dir, auth=False, overwrite=False, verbose=False)\n",
    "        \n",
    "    print('{0} completed'.format(var))"
   ]
  },
  {
   "cell_type": "markdown",
   "metadata": {},
   "source": [
    "** check what's what in the downloaded files and set up for calculating stats ** "
   ]
  },
  {
   "cell_type": "code",
   "execution_count": 932,
   "metadata": {
    "collapsed": true
   },
   "outputs": [],
   "source": [
    "var = 'rain'"
   ]
  },
  {
   "cell_type": "code",
   "execution_count": 933,
   "metadata": {
    "collapsed": true
   },
   "outputs": [],
   "source": [
    "def var_summary(var):    \n",
    "    var_dir = '/OSM/CBR/LW_BACKCAST/work/SOURCE/clim/awap_daily/{0}/nc'.format(var)\n",
    "    nc = ut.listfiles(var_dir, pattern = '.nc')\n",
    "    nc.sort(key = ut.tokenize)\n",
    "    print('Found %s netCDF files in:\\n\\t%s' %(len(nc), var_dir))\n",
    "\n",
    "    years = []\n",
    "    for month in nc:\n",
    "        this_year = os.path.basename(month).split('-')[-1].split('.')[0][:4]\n",
    "        years.append(this_year)\n",
    "    years = list(set(years))\n",
    "    years.sort()\n",
    "    print('First and last years downloaded are:\\n\\t%s, %s' %(years[0], years[-1]))\n",
    "\n",
    "    # check time series is continuous from 1913\n",
    "    required = np.arange(1913, 2018, 1)\n",
    "    required = [str(i) for i in required]\n",
    "    check = [ut.grep(required, i) for i in set(years)]\n",
    "    check = sum(check, [])\n",
    "    if len(check) == len(required):\n",
    "        print('All years from 1913 are available')\n",
    "\n",
    "    # init dict from the year 1913 onwards - junk earlier years\n",
    "    years = years[ut.which(years, '==', '1913')[0]:]\n",
    "    if years[-1] > '2017':\n",
    "        years = years[:-1] # junk 2018\n",
    "    by_year = {k: [] for k in years}\n",
    "\n",
    "    for yr in by_year.keys():\n",
    "        for n in nc:\n",
    "            this_year = os.path.basename(n).split('-')[-1].split('.')[0][:4]\n",
    "            if this_year == yr:\n",
    "                by_year[yr].append(n)\n",
    "\n",
    "    if all([len(by_year[i]) for i in by_year.keys()]):\n",
    "        print('Have downloaded files for %s years, each year represented by 12 months' %len(by_year))\n",
    "    #for i in by_year.keys():\n",
    "    #    print('Year %s has %s files' %(i, len(by_year[i])))\n",
    "    \n",
    "    return(by_year)"
   ]
  },
  {
   "cell_type": "code",
   "execution_count": 934,
   "metadata": {},
   "outputs": [
    {
     "name": "stdout",
     "output_type": "stream",
     "text": [
      "Found 1424 netCDF files in:\n",
      "\t/OSM/CBR/LW_BACKCAST/work/SOURCE/clim/awap_daily/rain/nc\n",
      "First and last years downloaded are:\n",
      "\t1900, 2018\n",
      "All years from 1913 are available\n",
      "Have downloaded files for 105 years, each year represented by 12 months\n"
     ]
    }
   ],
   "source": [
    "by_year = var_summary(var)"
   ]
  },
  {
   "cell_type": "markdown",
   "metadata": {},
   "source": [
    "** Set up centred climatology **\n",
    "***\n",
    "Base climatatology: 1946-1975"
   ]
  },
  {
   "cell_type": "code",
   "execution_count": 935,
   "metadata": {
    "collapsed": true
   },
   "outputs": [],
   "source": [
    "def config_base_climatology(by_year, start, stop, var, \n",
    "                            dst = None):\n",
    "    # Get all years between 1946-1975 inclusive\n",
    "    base_years = np.arange(start, stop, 1).tolist()\n",
    "    base_years = [str(i) for i in base_years]\n",
    "    base_years = [by_year[i] for i in base_years]\n",
    "    base_years = sum(base_years, [])\n",
    "    base_years[0], base_years[-1]\n",
    "    \n",
    "    # dump to file to then run as slurm job\n",
    "    if dst is None:\n",
    "        dst = '/OSM/CBR/LW_BACKCAST/work/DEV/awap_indicies/base-period-1960' + \\\n",
    "               '/{0}_nc_files.txt'.format(var)\n",
    "        \n",
    "    with open(dst, 'w') as f:\n",
    "        for i in base_years:\n",
    "            f.write(i + '\\n')\n",
    "    f.close()\n",
    "    \n",
    "    print('txt file written here:\\n\\t{0}'.format(dst))"
   ]
  },
  {
   "cell_type": "code",
   "execution_count": 936,
   "metadata": {},
   "outputs": [
    {
     "name": "stdout",
     "output_type": "stream",
     "text": [
      "txt file written here:\n",
      "\t/OSM/CBR/LW_BACKCAST/work/DEV/awap_indicies/base-period-1960/rain_nc_files.txt\n"
     ]
    }
   ],
   "source": [
    "config_base_climatology(1946, 1976, var)"
   ]
  },
  {
   "cell_type": "code",
   "execution_count": 937,
   "metadata": {
    "collapsed": true
   },
   "outputs": [],
   "source": [
    "def readfile(src):\n",
    "    with open(src) as f:\n",
    "        src = f.readlines()\n",
    "    f.close()\n",
    "    src = [x.strip() for x in src] \n",
    "    return(src)"
   ]
  },
  {
   "cell_type": "code",
   "execution_count": 938,
   "metadata": {},
   "outputs": [
    {
     "data": {
      "text/plain": [
       "['/OSM/CBR/LW_BACKCAST/work/SOURCE/clim/awap_daily/tmax/nc/bom-tmax_day-19460101-19460131.nc',\n",
       " '/OSM/CBR/LW_BACKCAST/work/SOURCE/clim/awap_daily/tmax/nc/bom-tmax_day-19460201-19460228.nc',\n",
       " '/OSM/CBR/LW_BACKCAST/work/SOURCE/clim/awap_daily/tmax/nc/bom-tmax_day-19460301-19460331.nc']"
      ]
     },
     "execution_count": 938,
     "metadata": {},
     "output_type": "execute_result"
    }
   ],
   "source": [
    "# check\n",
    "readfile('/OSM/CBR/LW_BACKCAST/work/DEV/awap_indicies/base-period-1960/tmax_nc_files.txt')[0:3]"
   ]
  }
 ],
 "metadata": {
  "kernelspec": {
   "display_name": "Python 3.6.1",
   "language": "python",
   "name": "python-3.6.1"
  },
  "language_info": {
   "codemirror_mode": {
    "name": "ipython",
    "version": 3
   },
   "file_extension": ".py",
   "mimetype": "text/x-python",
   "name": "python",
   "nbconvert_exporter": "python",
   "pygments_lexer": "ipython3",
   "version": "3.6.1"
  }
 },
 "nbformat": 4,
 "nbformat_minor": 2
}
